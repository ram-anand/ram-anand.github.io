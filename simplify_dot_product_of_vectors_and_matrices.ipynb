{
  "nbformat": 4,
  "nbformat_minor": 0,
  "metadata": {
    "colab": {
      "name": "simplify_dot_product_of_vectors_and_matrices.ipynb",
      "provenance": [],
      "collapsed_sections": [],
      "toc_visible": true,
      "authorship_tag": "ABX9TyPdWFfJ7dzA6wxP1s0n900z",
      "include_colab_link": true
    },
    "kernelspec": {
      "name": "python3",
      "display_name": "Python 3"
    },
    "language_info": {
      "name": "python"
    }
  },
  "cells": [
    {
      "cell_type": "markdown",
      "metadata": {
        "id": "view-in-github",
        "colab_type": "text"
      },
      "source": [
        "<a href=\"https://colab.research.google.com/github/ram-anand/ram-anand.github.io/blob/main/simplify_dot_product_of_vectors_and_matrices.ipynb\" target=\"_parent\"><img src=\"https://colab.research.google.com/assets/colab-badge.svg\" alt=\"Open In Colab\"/></a>"
      ]
    },
    {
      "cell_type": "markdown",
      "metadata": {
        "id": "ZobQ1DGwsVya"
      },
      "source": [
        "# How to understand matrix multiplication in terms of vectors\n",
        "\n",
        "All you need to know is \n",
        "- scalar multiplication of matrix and dot product of vectors"
      ]
    },
    {
      "cell_type": "markdown",
      "metadata": {
        "id": "Q2ZwmYgZGUoF"
      },
      "source": [
        "## Scalar multiplication with vector and matrix\n",
        "\n",
        "$$\n",
        "k . \\begin{bmatrix} a & b \\end{bmatrix} = \\begin{bmatrix} k.a & k.b \\end{bmatrix}\n",
        "$$\n",
        "\n",
        "$$\n",
        "k . \\begin{bmatrix} a \\\\ c \\end{bmatrix} = \\begin{bmatrix} k.a \\\\ k.c \\end{bmatrix}\n",
        "$$\n",
        "\n",
        "$$\n",
        "k . \\begin{bmatrix} a & b \\\\ c & d \\end{bmatrix} = \\begin{bmatrix} k.a & k.b \\\\ k.c & k.d \\end{bmatrix}\n",
        "$$"
      ]
    },
    {
      "cell_type": "markdown",
      "metadata": {
        "id": "9UPWkIqEGU7k"
      },
      "source": [
        "## Product of two vectors:\n",
        "$$\n",
        "\\begin{bmatrix} a \\end{bmatrix} . \\begin{bmatrix} p \\end{bmatrix} \n",
        "= a.p\n",
        "$$\n"
      ]
    },
    {
      "cell_type": "markdown",
      "metadata": {
        "id": "Orn1JnrFJlfe"
      },
      "source": [
        "### **row-vector x column-vector:** called dot product or inner product\n",
        "  \n",
        "\n",
        "$$\n",
        "\\begin{bmatrix} a & b \\end{bmatrix} . \\begin{bmatrix} p \\\\ r \\end{bmatrix} \n",
        "= a.p + b.r\n",
        "$$"
      ]
    },
    {
      "cell_type": "markdown",
      "metadata": {
        "id": "Cn_YmaEpJptS"
      },
      "source": [
        "### **column vector x row vector:** called scalar product or outer product\n",
        "\n",
        "$$\n",
        "\\begin{bmatrix} a \\\\ c \\end{bmatrix} . \\begin{bmatrix} p & q \\end{bmatrix} \n",
        "= \\begin{bmatrix} \\begin{bmatrix} a \\\\ c \\end{bmatrix} .p & \\begin{bmatrix} a \\\\ c \\end{bmatrix} .q \\end{bmatrix} = \\begin{bmatrix} a. \\begin{bmatrix} p & q \\end{bmatrix} \\\\ c . \\begin{bmatrix} p & q \\end{bmatrix} \\end{bmatrix} \n",
        "$$"
      ]
    },
    {
      "cell_type": "markdown",
      "metadata": {
        "id": "kIEUlsMWsV2s"
      },
      "source": [
        "## Product of the two matrix\n",
        "\n",
        "Matrix multiplication of two matrices A & B is either written as AB or A.B (dot product)\n",
        "\n",
        "$$\n",
        "A = \\begin{bmatrix} a & b \\\\ c & d \\end{bmatrix}, \\ B =  \\begin{bmatrix} p & q \\\\ r & s \\end{bmatrix}\n",
        "$$\n",
        "\n",
        "$$\n",
        "AB = A.B = \\begin{bmatrix} a & b \\\\ c & d \\end{bmatrix} . \\begin{bmatrix} p & q \\\\ r & s \\end{bmatrix} = \\begin{bmatrix} ap+br & aq+bs\\\\ cp+dr & cq + ds \\end{bmatrix}\n",
        "$$"
      ]
    },
    {
      "cell_type": "markdown",
      "metadata": {
        "id": "zOeJFzhstBj4"
      },
      "source": [
        "\n",
        "\n",
        "#### Think of it as a dot product:\n",
        "\n",
        "$$\n",
        "c_1 = \\begin{bmatrix} a \\\\ c \\end{bmatrix}, c_2 = \\begin{bmatrix} b \\\\ d \\end{bmatrix} , r_1 = \\begin{bmatrix} p & q \\end{bmatrix}, r_2 = \\begin{bmatrix} r & s \\end{bmatrix}\n",
        "$$\n",
        "\n",
        "Now the multiplication:\n",
        "\n",
        "$$\n",
        "\\begin{bmatrix} c_1 & c_2 \\end{bmatrix} . \\begin{bmatrix} r_1 \\\\ r_2 \\end{bmatrix} = c_1.r_1 + c_2.r_2 = \\begin{bmatrix} a \\\\ c \\end{bmatrix} . \\begin{bmatrix} p & q \\end{bmatrix} + \\begin{bmatrix} b \\\\ d \\end{bmatrix} . \\begin{bmatrix} r & s \\end{bmatrix}\n",
        "$$"
      ]
    },
    {
      "cell_type": "markdown",
      "metadata": {
        "id": "NLeUAMAQtBmn"
      },
      "source": [
        "### Think of it as a scalar product:\n",
        "\n",
        "$$\n",
        "r_1 = \\begin{bmatrix} a & b \\end{bmatrix}, r_2 = \\begin{bmatrix} c & d \\end{bmatrix}, c_1 = \\begin{bmatrix} p \\\\ r \\end{bmatrix}, c_2 = \\begin{bmatrix} q \\\\ s \\end{bmatrix}\n",
        "$$\n",
        "\n",
        "Now the multiplication:\n",
        "\n",
        "#### 1. First take (first matrix is multiplied by scalar): \n",
        "\n",
        "\n",
        "$$\n",
        "A . \\begin{bmatrix} c_1 & c_2 \\end{bmatrix} = \\begin{bmatrix} A.c_1 & A.c_2 \\end{bmatrix}\n",
        "$$\n",
        "\n",
        "More elaborately:\n",
        "\n",
        "$$\n",
        "\\begin{bmatrix} r_1 \\\\\\ r_2 \\end{bmatrix} . \\begin{bmatrix} c_1 & c_2 \\end{bmatrix} = \\begin{bmatrix} \\begin{bmatrix} r_1 \\\\\\ r_2 \\end{bmatrix}. c_1 & \\begin{bmatrix} r_1 \\\\\\ r_2 \\end{bmatrix} . c_2 \\end{bmatrix}\n",
        "$$\n",
        "\n",
        "#### 2. Second take (second matrix is multiplied by scalar): \n",
        "\n",
        "$$\n",
        "\\begin{bmatrix} r_1 \\\\\\ r_2 \\end{bmatrix} . B = \\begin{bmatrix} r_1.B \\\\\\ r_2.B \\end{bmatrix} \n",
        "$$\n",
        "\n",
        "More elaborately:\n",
        "\n",
        "$$\n",
        "\\begin{bmatrix} r_1 \\\\\\ r_2 \\end{bmatrix} . \\begin{bmatrix} c_1 & c_2 \\end{bmatrix} = \\begin{bmatrix} r_1 . \\begin{bmatrix} c_1 & c_2 \\end{bmatrix} \\\\ r_2 . \\begin{bmatrix} c_1 & c_2 \\end{bmatrix} \\end{bmatrix}\n",
        "$$\n",
        "\n",
        "#### 3. Third take (normal matrix multiplication): \n",
        "\n",
        "> Notice each element is the dot product of vectors\n",
        "\n",
        "\n",
        "$$\n",
        "\\begin{bmatrix} r_1 \\\\\\ r_2 \\end{bmatrix} . \\begin{bmatrix} c_1 & c_2 \\end{bmatrix} = \\begin{bmatrix} r_1.c_1 & r_1.c_2 \\\\ r_2.c_1 & r_2.c_2 \\end{bmatrix} = \\begin{bmatrix} \\begin{bmatrix} a & b \\end{bmatrix}.\\begin{bmatrix} p \\\\ r \\end{bmatrix} & \\begin{bmatrix} a & b \\end{bmatrix}.\\begin{bmatrix} q \\\\ s \\end{bmatrix} \\\\ \\begin{bmatrix} c & d \\end{bmatrix}.\\begin{bmatrix} p \\\\ r \\end{bmatrix} & \\begin{bmatrix} c & d \\end{bmatrix}.\\begin{bmatrix} q \\\\ s \\end{bmatrix} \\end{bmatrix}\n",
        "$$\n",
        "\n"
      ]
    }
  ]
}