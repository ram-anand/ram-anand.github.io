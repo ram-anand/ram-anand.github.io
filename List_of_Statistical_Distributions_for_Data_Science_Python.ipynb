{
  "nbformat": 4,
  "nbformat_minor": 0,
  "metadata": {
    "colab": {
      "name": "List of Statistical Distributions for Data Science- Python.ipynb",
      "provenance": [],
      "collapsed_sections": [],
      "authorship_tag": "ABX9TyNa/4REqUovXMXyBp76/6d/",
      "include_colab_link": true
    },
    "kernelspec": {
      "name": "python3",
      "display_name": "Python 3"
    }
  },
  "cells": [
    {
      "cell_type": "markdown",
      "metadata": {
        "id": "view-in-github",
        "colab_type": "text"
      },
      "source": [
        "<a href=\"https://colab.research.google.com/github/ram-anand/ram-anand.github.io/blob/main/List_of_Statistical_Distributions_for_Data_Science_Python.ipynb\" target=\"_parent\"><img src=\"https://colab.research.google.com/assets/colab-badge.svg\" alt=\"Open In Colab\"/></a>"
      ]
    },
    {
      "cell_type": "markdown",
      "metadata": {
        "id": "4BzrHeL4hJu9"
      },
      "source": [
        "## Comprehensive list of Statistical probability distribution and comparision"
      ]
    },
    {
      "cell_type": "markdown",
      "metadata": {
        "id": "DqACGdkxaB7y"
      },
      "source": [
        "### List of probability distributions\r\n",
        "\r\n",
        "* [Discrete distributions](#Discrete-distributions)\r\n",
        "    - [Geometric distribution](#Geometric-distribution)\r\n",
        "    - [Hypergeometric distribution](#Hypergeometric-distribution)\r\n",
        "    - [Negative Binomial distribution](#Negative-Binomial-distribution)\r\n",
        "    - [Binomial distribution](#Binomial-distribution)\r\n",
        "    - [Poisson distribution](#Poisson-distribution)\r\n",
        "* [Continuous distributions](#Continuous-distributions)\r\n",
        "    - [Uniform distribution](#Uniform-distribution)\r\n",
        "    - [Gaussian or Normal distribution](#Gaussian-Normal-distribution)\r\n",
        "    - [Student-t](#Student-t-distribution)\r\n",
        "    - [Chi-square distribution](#Chi-square-distribution)\r\n",
        "    - [Exponential distribution](#Exponential-distribution)\r\n",
        "    - [Gamma distribution](#Gamma-distribution)\r\n",
        "    - [Weibull distribution](#Weibull-distribution)\r\n",
        "    - [Pareto distribution](#Pareto-distribution)"
      ]
    },
    {
      "cell_type": "markdown",
      "metadata": {
        "id": "8D7dEmxfrPOW"
      },
      "source": [
        "### Uniform Distribution"
      ]
    },
    {
      "cell_type": "markdown",
      "metadata": {
        "id": "KEQsmbmAqwxE"
      },
      "source": [
        "<table border=\"2\" bgcolor=\"#f0f0ff\" cellspacing=\"2\" cellpadding=\"2\" style=\"width:100%\">\r\n",
        "\r\n",
        "<tr>\r\n",
        "    <th>Sample Image for Distribution</th> \r\n",
        "    <th>Distribution</th>\r\n",
        "    <th>Parameters</th>\r\n",
        "    <th>Distribution PMF / PDF Function</th>\r\n",
        "    <th>Distribution Mean</th> \r\n",
        "    <th>Distribution Variance</th> \r\n",
        "    <th>Uses / Examples</th> \r\n",
        "</tr>\r\n",
        "\r\n",
        "<tr>\r\n",
        "    <td>\r\n",
        "    <img src=\"https://upload.wikimedia.org/wikipedia/commons/thumb/c/c2/Uniform_distribution.svg/330px-Uniform_distribution.svg.png\" alt=\"Unifrom\"></img>\r\n",
        "    </td>\r\n",
        "    <td><p>Uniform</p></td> \r\n",
        "    <td> \r\n",
        "    $a = min, b = max$, <br/>\r\n",
        "    x = number of outcomes </td>\r\n",
        "    <td>\r\n",
        "    \\begin{align}f(x) = \\frac{1}{b-a}\\end{align}\r\n",
        "    </td> \r\n",
        "    <td>\\begin{align}\\frac{a+b}{2}\\end{align}</td> \r\n",
        "    <td>\\begin{align}\\frac{(b-a)^2}{12}\\end{align}</td> \r\n",
        "    <td>lead-time for inventory management</td>\r\n",
        "</tr>\r\n",
        "</table>"
      ]
    },
    {
      "cell_type": "markdown",
      "metadata": {
        "id": "2Utzh7MzDJbD"
      },
      "source": [
        "### Binomial Family Distributions"
      ]
    },
    {
      "cell_type": "markdown",
      "metadata": {
        "id": "I-tSGkqICzHX"
      },
      "source": [
        "<table border=\"2\" bgcolor=\"#f0f0ff\" cellspacing=\"2\" cellpadding=\"2\" style=\"width:100%\">\r\n",
        "\r\n",
        "<tr>\r\n",
        "    <th>Sample Image for Distribution</th> \r\n",
        "    <th>Distribution</th>\r\n",
        "    <th>Parameters</th>\r\n",
        "    <th>Distribution PMF / PDF Function</th>\r\n",
        "    <th>Distribution Mean</th> \r\n",
        "    <th>Distribution Variance</th> \r\n",
        "    <th>Uses / Examples</th> \r\n",
        "</tr>\r\n",
        "\r\n",
        "<tr>\r\n",
        "    <td>\r\n",
        "    <img src=\"https://upload.wikimedia.org/wikipedia/commons/thumb/c/c2/Uniform_distribution.svg/330px-Uniform_distribution.svg.png\" alt=\"Unifrom\"></img>\r\n",
        "    </td>\r\n",
        "    <td><p>Uniform</p></td> \r\n",
        "    <td> \r\n",
        "    $a = min, b = max$, <br/>\r\n",
        "    x = number of outcomes </td>\r\n",
        "    <td>\r\n",
        "    \\begin{align}f(x) = \\frac{1}{b-a}\\end{align}\r\n",
        "    </td> \r\n",
        "    <td>\\begin{align}\\frac{a+b}{2}\\end{align}</td> \r\n",
        "    <td>\\begin{align}\\frac{(b-a)^2}{12}\\end{align}</td> \r\n",
        "    <td>lead-time for inventory management</td>\r\n",
        "</tr>\r\n",
        "\r\n",
        "<tr>\r\n",
        "    <td>\r\n",
        "    <img src=\"https://upload.wikimedia.org/wikipedia/commons/thumb/7/75/Binomial_distribution_pmf.svg/330px-Binomial_distribution_pmf.svg.png\" alt=\"Binomial\"></img>\r\n",
        "    </td>\r\n",
        "    <td><p>Binomial</p></td> \r\n",
        "    <td> \r\n",
        "    x = number of success, <br/>\r\n",
        "    n = number of trials/draws <br/> \r\n",
        "    p = prob(success) </td>\r\n",
        "    <td>\r\n",
        "    \\begin{align}F(X=x) = {n \\choose x}\\,p^x(1 - p)^{n - x}\\end{align}\r\n",
        "    </td> \r\n",
        "    <td>mean = median = mode = np</td> \r\n",
        "    <td>np(1-p)</td>\r\n",
        "    <td>\r\n",
        "    model number of successes in sample drawn with replacement<br/>(i.i.d. Bernoulli trials with replacement) from a population of size N<br/>\r\n",
        "    </td> \r\n",
        "</tr>\r\n",
        "\r\n",
        "<tr>\r\n",
        "    <td>\r\n",
        "    <img src=\"https://upload.wikimedia.org/wikipedia/commons/thumb/c/c1/HypergeometricPDF.png/330px-HypergeometricPDF.png\" alt=\"Hypergeometric\"></img>\r\n",
        "    </td>\r\n",
        "    <td><p>Hypergeometric</p></td> \r\n",
        "    <td>\r\n",
        "    N = population size, <br/>\r\n",
        "    M = total success states, <br/>\r\n",
        "    x = observed successes in draws, <br/>\r\n",
        "    n = number of trails/draws,<br/>\r\n",
        "    p = prob(success) = M/N<br/>\r\n",
        "    </td> \r\n",
        "    <td>\r\n",
        "    \\begin{align}F(x=x) = \\frac{{M \\choose x}{N-M \\choose n-x}}{N\\choose n}\\end{align}\r\n",
        "    </td> \r\n",
        "    <td>np</td> \r\n",
        "    <td>np(1-p)</td> \r\n",
        "    <td>\r\n",
        "    model number of successes in sample drawn without replacement<br>     (draws not independent) from a population of size N<br/>\r\n",
        "    </td> \r\n",
        "</tr>\r\n",
        "\r\n",
        "<tr>\r\n",
        "    <td>\r\n",
        "    <img src=\"https://upload.wikimedia.org/wikipedia/commons/thumb/4/4b/Geometric_pmf.svg/330px-Geometric_pmf.svg.png\" alt=\"Geometric\"></img>\r\n",
        "    </td>\r\n",
        "    <td><p>Geometric</p></td>\r\n",
        "    <td> x = number of trails/draws<br/> p = prob(success)</td>  \r\n",
        "    <td>\\begin{align} F(X=x) = (1 - p)^{x - 1}\\,p \\end{align}</td> \r\n",
        "    <td>\\begin{align}\\frac{1}{p}\\end{align}</td> \r\n",
        "    <td>\\begin{align}\\frac{1-p}{p^2}\\end{align}</td> \r\n",
        "    <td>\r\n",
        "    number of draws x (with replacement) to get first success<br/>\r\n",
        "    (i.i.d. Bernoulli trials with replacement)</br>\r\n",
        "    also to model number of failures(x-1) before first success\r\n",
        "</tr>\r\n",
        "\r\n",
        "<tr>\r\n",
        "    <td>\r\n",
        "    <img src=\"https://upload.wikimedia.org/wikipedia/commons/8/83/Negbinomial.gif\" alt=\"Negative Binomial\"></img>\r\n",
        "    </td>\r\n",
        "    <td><p>Negative Binomial<br/> or Pascal</p></td>\r\n",
        "    <td> \r\n",
        "    x = number of trails/draws required, <br/> \r\n",
        "    p = prob(success), <br/>\r\n",
        "    k = given number of sucesss\r\n",
        "    </td>  \r\n",
        "    <td>\\begin{align} F(X=x) = {x-1 \\choose k-1}\\,(1 - p)^{x - k}p^k\\end{align}</td> \r\n",
        "    <td>\\begin{align}\\frac{k}{p}\\end{align}</td> \r\n",
        "    <td>\\begin{align}\\frac{k(1-p)}{p^2}\\end{align}</td>\r\n",
        "    <td>\r\n",
        "    probablity of draws (i.i.d. Bernoulli trials with replacement)<br/>\r\n",
        "    models number of draws to get finite number of successes<br/>\r\n",
        "    or before a specified number of failures occurs\r\n",
        "    </td>\r\n",
        "</tr>\r\n",
        "\r\n",
        "</table>"
      ]
    },
    {
      "cell_type": "markdown",
      "metadata": {
        "id": "nDQLxYC3DEtE"
      },
      "source": [
        "### Exponential Family & Similar Distributions"
      ]
    },
    {
      "cell_type": "markdown",
      "metadata": {
        "id": "RCQinOH32DjN"
      },
      "source": [
        "<table border=\"2\" bgcolor=\"#f0f0ff\" cellspacing=\"2\" cellpadding=\"2\" style=\"width:100%\">\r\n",
        "\r\n",
        "<tr>\r\n",
        "    <th>Sample Image for Distribution</th> \r\n",
        "    <th>Distribution</th>\r\n",
        "    <th>Parameters</th>\r\n",
        "    <th>Distribution PMF / PDF Function</th>\r\n",
        "    <th>Distribution Mean</th> \r\n",
        "    <th>Distribution Variance</th> \r\n",
        "    <th>Uses / Examples</th> \r\n",
        "</tr>\r\n",
        "\r\n",
        "<tr>\r\n",
        "    <td><img src=\"https://upload.wikimedia.org/wikipedia/commons/thumb/0/02/Exponential_probability_density.svg/330px-Exponential_probability_density.svg.png\" alt=\"Exponential\" style=\"max-height:100%; max-width:100%></img></td>\r\n",
        "    <td><p>Exponential</p></td> \r\n",
        "    <td> \r\n",
        "    λ = events(arrivals) per unit time </br>(event rate, 1/decay rate),<br/> \r\n",
        "    t = wait time until the next event<br/>\r\n",
        "    </td>\r\n",
        "    <td>\\begin{align}f(t) = \\lambda\\,{e}^{-\\lambda{t}}\\end{align}</td> \r\n",
        "    <td>\\begin{align}\\frac{1}{λ}\\end{align}</td> \r\n",
        "    <td>\\begin{align}\\frac{1}{λ^2}\\end{align}</td>\r\n",
        "    <td> \r\n",
        "    models probalility of amount of waiting until the next event<br/>\r\n",
        "    or probability of single event to occur in 't' time unit, e.g.<br/>\r\n",
        "    1.time until the hardware on AWS EC2 fails<br/>\r\n",
        "    2.time taken to bus arrival<br/>\r\n",
        "    3.time until customer finishes browsing and buy from store<br/>\r\n",
        "</td> \r\n",
        "</tr>\r\n",
        "\r\n",
        "<tr>\r\n",
        "    <td><img src=\"https://upload.wikimedia.org/wikipedia/commons/thumb/1/16/Poisson_pmf.svg/330px-Poisson_pmf.svg.png\" alt=\"Poison\"></img></td>\r\n",
        "    <td><p>Poison</p></td> \r\n",
        "    <td> \r\n",
        "    λ = event(arrivals) in unit time(event rate),<br/> \r\n",
        "    t = amount of time for poison process,<br/> \r\n",
        "    k = expected number of events to occur</br>\r\n",
        "    f(t) = probability of 'k' events</br> occuring during 't' time units\r\n",
        "    </td>\r\n",
        "    <td>\\begin{align}f(k) = \\frac{{e}^{-λt}\\,{λt}^k}{k!}\\end{align}</td> \r\n",
        "    <td>\\begin{align}\\lambda{t}\\end{align}</td> \r\n",
        "    <td>\\begin{align}\\lambda{t}\\end{align}</td> \r\n",
        "    <td> \r\n",
        "    models probability of rare events with no memory or <br/>\r\n",
        "    or probability of 'k' number of event to occur in 't' unit time , e.g.<br/>\r\n",
        "    1.number of mutations in a unit length DNA strand<br/>\r\n",
        "    2.number of goals in a football match<br/>\r\n",
        "    3.number of calls to a switch board in an hour<br/>\r\n",
        "    4.number of flaws per metre squared in a material<br/>\r\n",
        "</td>\r\n",
        "</tr>\r\n",
        "\r\n",
        "<tr>\r\n",
        "    <td><img src=\"https://upload.wikimedia.org/wikipedia/commons/thumb/e/e6/Gamma_distribution_pdf.svg/330px-Gamma_distribution_pdf.svg.png\" alt=\"Gamma\"></img></td>\r\n",
        "    <td><p>Gamma</p></td> \r\n",
        "    <td> \r\n",
        "    λ = arrival/event rate (1/scale parameter),<br/> \r\n",
        "    k = fixed number of events </br>\r\n",
        "    waiting to occur(shape parameter),<br/> \r\n",
        "    t = wait time until the k-th event,<br/> \r\n",
        "    f(t) = probability that wait time is 't' </br>time units to occur 'k' events\r\n",
        "    </td>    \r\n",
        "    <td>\r\n",
        "    \\begin{align}f(t) = \\frac{1}{\\Gamma(k)}\\,\\frac{e^{-λt}\\,(λt)^k}{t}\\end{align}</td>\r\n",
        "    <td>\\begin{align}\\frac{k}{\\lambda}\\end{align}</td> \r\n",
        "    <td>\\begin{align}\\frac{k}{\\lambda^2}\\end{align}</td> \r\n",
        "    <td> \r\n",
        "    models probability of poison events<br/>\r\n",
        "    or probability of 'k' events to occur in 't' unit time, e.g.<br/>\r\n",
        "    1.number of mutations in a unit length DNA strand<br/>\r\n",
        "    2.number of goals in a football match<br/>\r\n",
        "    3.number of calls to a switch board in an hour<br/>\r\n",
        "    4.number of flaws per metre squared in a material<br/>\r\n",
        "    Note: Gamma function, $\\Gamma(k) = (k-1)!$ \r\n",
        "    </td>\r\n",
        "</tr>\r\n",
        "\r\n",
        "<tr>\r\n",
        "    <td><img src=\"https://upload.wikimedia.org/wikipedia/commons/thumb/2/21/Chi-square_distributionPDF.png/330px-Chi-square_distributionPDF.png\" alt=\"Chi-Square\"></img></td>\r\n",
        "    <td><p>Chi-Square</p></td> \r\n",
        "    <td> \r\n",
        "    n = degrees of freedom,</br>\r\n",
        "    x = random variable,<br/>\r\n",
        "    f(x) = prabability\r\n",
        "    </td>        \r\n",
        "    <td>\r\n",
        "    \\begin{align}f(x) = \\frac{1}{2^{n/2}\\Gamma\\left(\\frac{n}{2}\\right)}\\,x^{\\frac{n}{2}-1}{e}^{-x/2}\\end{align}</td> \r\n",
        "    <td>n</td> \r\n",
        "    <td>2n</td> \r\n",
        "    <td>\r\n",
        "    1. Confidence interval for population 'σ' from sample 's',</br>\r\n",
        "    2. The chi-square test (a goodness of fit test),</br>\r\n",
        "    3. Relationships between categorical variables(contingency tables),</br>\r\n",
        "    4. Tests of deviations or one-way tables (expected - observed),</br>\r\n",
        "    5. ANOVA (F-Distribution): \\begin{align} F(a,b) = \\frac{χ^2(a)/a}{χ^2(b)/b}\\end{align} a, b are degree of freedom for numerator & denominator\r\n",
        "    </td>\r\n",
        "</tr>\r\n",
        "\r\n",
        "<tr>\r\n",
        "    <td><img src=\"https://upload.wikimedia.org/wikipedia/commons/thumb/9/9a/Beta_distribution_pdf.png/330px-Beta_distribution_pdf.png\" alt=\"Beta\"></img></td>\r\n",
        "    <td><p>Beta</td> \r\n",
        "    <td> \r\n",
        "    α, β = shape parameter,<br/>\r\n",
        "    x = random variable,<br/> \r\n",
        "    f(x) = prabability\r\n",
        "    </td>       \r\n",
        "    <td>\\begin{align}f(x) = \\frac{\\Gamma(α+β)}{\\Gamma(α)}\\,x^{α-1}(1-x)^{β-1}\\end{align}\r\n",
        "    </td> \r\n",
        "    <td>\\begin{align}\\frac{α}{(α+β)}\\end{align}</td> \r\n",
        "    <td>\\begin{align}\\frac{(αβ)}{(α+β)^2(α+β+1)}\\end{align}</td> \r\n",
        "    <td>\r\n",
        "    models variability of R.V. over a fixed range/interval<br/>\r\n",
        "    1. time to complete a task<br/>\r\n",
        "    2. proportion of defective items in a shipment\r\n",
        "    </td>\r\n",
        "</tr>\r\n",
        "\r\n",
        "<tr>\r\n",
        "    <td><img src=\"https://upload.wikimedia.org/wikipedia/commons/thumb/1/11/Probability_density_function_of_Pareto_distribution.svg/330px-Probability_density_function_of_Pareto_distribution.svg.png\" alt=\"Pareto\"></img></td>\r\n",
        "    <td><p>Pareto</td> \r\n",
        "    <td> \r\n",
        "    α = shape parameter/tail index,<br/>\r\n",
        "    L =  scale parameter/minimum value of x,<br/>\r\n",
        "    x = random variable,<br/> \r\n",
        "    f(x) = prabability\r\n",
        "    </td>       \r\n",
        "    <td>\\begin{align}f(x) = \\frac{αL^{α}}{L^{α+1}},\\, x > L\\end{align}\r\n",
        "    </td> \r\n",
        "    <td>\\begin{align}\\frac{αL}{(α-1)}\\end{align}</td> \r\n",
        "    <td>\\begin{align}\\frac{(αL^2)}{(α-1)^2(α-2)}\\end{align}</td> \r\n",
        "    <td>\r\n",
        "     models distribution of wealth or where 80-20 rule holds<br/>\r\n",
        "    1. city population sizes,<br/>\r\n",
        "    2. the occurrence of naturalresources,,<br/>  \r\n",
        "    3. the  size  of  companies,<br/>\r\n",
        "    4. personal  incomes,<br/>\r\n",
        "    5. stock  price  fluctuations,<br/>\r\n",
        "    6. error clustering in communication circuits\r\n",
        "    </td>\r\n",
        "</tr>\r\n",
        "</table>"
      ]
    },
    {
      "cell_type": "markdown",
      "metadata": {
        "id": "-294sGHjcOSi"
      },
      "source": [
        "### Gaussian Distributions"
      ]
    },
    {
      "cell_type": "markdown",
      "metadata": {
        "id": "77X9CAtfcF5w"
      },
      "source": [
        "<table border=\"2\" bgcolor=\"#f0f0ff\" cellspacing=\"2\" cellpadding=\"2\" style=\"width:100%\">\r\n",
        "\r\n",
        "<tr>\r\n",
        "    <th>Sample Image for Distribution</th> \r\n",
        "    <th>Distribution</th>\r\n",
        "    <th>Parameters</th>\r\n",
        "    <th>Distribution PMF / PDF Function</th>\r\n",
        "    <th>Distribution Mean</th> \r\n",
        "    <th>Distribution Variance</th> \r\n",
        "    <th>Uses / Examples</th> \r\n",
        "</tr>\r\n",
        "\r\n",
        "<tr>\r\n",
        "    <td><img src=\"https://upload.wikimedia.org/wikipedia/commons/thumb/1/10/Generalized_normal_densities.svg/330px-Generalized_normal_densities.svg.png\" alt=\"Normal\"></img></td>\r\n",
        "    <td><p>Gaussian<br/> or Normal</p></td> \r\n",
        "    <td> \r\n",
        "    𝜇 = mean, $𝜎^2$ = variance,<br/> \r\n",
        "    x = random variable,</br>\r\n",
        "    f(x) = prabability    \r\n",
        "    </td>\r\n",
        "    <td>\\begin{align}f(x) = \\frac{1}{\\sqrt{2\\pi \\sigma^2}}\\,{e}^{-(x-\\mu)^2/2\\sigma^2}\\end{align}</td> \r\n",
        "    <td>mean = mode = median = \\begin{align}\\mu\\end{align}</td> \r\n",
        "    <td>\\begin{align}\\sigma^{2}\\end{align}</td> \r\n",
        "    <td> \r\n",
        "      Distribution of sample mean(avg) follows normal curve</br>\r\n",
        "      irrespective of shape of the population distribution</br>\r\n",
        "      thats why many measurements are normally distributed e.g.</br>\r\n",
        "      heights, blood pressure, measurement error, IQ scores</br>\r\n",
        "      1. Parametric hypothetical tests,</br>\r\n",
        "      2. Linear and Non-linear regression modelling,</br>\r\n",
        "      3. Population parameter estimation,</br>\r\n",
        "      4. Comparing different population(z-statistic)\r\n",
        "    </td>\r\n",
        "</tr>\r\n",
        "\r\n",
        "<tr>\r\n",
        "    <td><img src=\"https://upload.wikimedia.org/wikipedia/commons/thumb/5/58/Weibull_PDF.svg/330px-Weibull_PDF.svg.png\" alt=\"Weibull\"></img></td>\r\n",
        "    <td><p>Weibull<br/>or Rayleigh</p></td> \r\n",
        "    <td> \r\n",
        "    𝜆 = scale parameter, 𝛽 = shape parameter, <br/> \r\n",
        "    x = time-to-failure variable,</br>\r\n",
        "    f(x) = prabability\r\n",
        "    </td>\r\n",
        "    <td>\\begin{align}f(x) = \\frac{\\beta}{\\lambda}\\left(\\frac{x}{\\lambda}\\right)^{\\beta - 1}\\,{e}^{-(x/\\lambda)^\\beta}\\end{align}</td> \r\n",
        "    <td>\\begin{align}\\mu\\end{align}</td> \r\n",
        "    <td>\\begin{align}2b^2\\end{align}</td> \r\n",
        "    <td> \r\n",
        "    to model product reliability, analyze life data</br>\r\n",
        "    and failure times</br>\r\n",
        "    1. Lifetime of medical and dental implants,</br>\r\n",
        "    2. Life of Components produced in a factory,</br>\r\n",
        "    3. Warranty analysis, Utility services</br>\r\n",
        "    4. Analysing time-to-failure for a component</br>\r\n",
        "    𝛽 < 1 -> failure rate decreases over time(infant mortality),<br/> \r\n",
        "    𝛽 = 1 -> failure rate constant over time(random failures),<br/> \r\n",
        "    𝛽 > 1 -> failure rate increases with time(aging)\r\n",
        "    </td>\r\n",
        "</tr>\r\n",
        "\r\n",
        "<tr>\r\n",
        "    <td><img src=\"https://upload.wikimedia.org/wikipedia/commons/thumb/4/41/Student_t_pdf.svg/330px-Student_t_pdf.svg.png\" alt=\"Student-t\"></img></td>\r\n",
        "    <td><p>Student-t</p></td> \r\n",
        "    <td> \r\n",
        "    m = mean, $s^2$ = variance,<br/> \r\n",
        "    x = variable</br>\r\n",
        "    f(x) = prabability\r\n",
        "    </td>\r\n",
        "    <td>\\begin{align}\r\n",
        "f(x) = \\frac{\\Gamma\\left(\\frac{n}{2}\\right)}{\\Gamma\\left(\\frac{n+1}{2}\\right)}\\,\\frac{\\sqrt{\\pi n s^2}}{\\left(1 + \\frac{(x-m)^2}{ns^2}\\right)^{\\frac{n+1}{2}}}\r\n",
        "\\end{align}</td> \r\n",
        "    <td>\\begin{align}m\\end{align}</td> \r\n",
        "    <td>\\begin{align}s^2\\end{align}</td> \r\n",
        "    <td> \r\n",
        "    In estimating mean of normal population(unknown variance)</br>\r\n",
        "    when size of sample is small, it has heavier tails</br>\r\n",
        "    1. statistical significance of difference of 2 sample means,<br/> \r\n",
        "    2. confidence intervals for difference of 2 population means,<br/> \r\n",
        "    3. linear regression analysis\r\n",
        "    </td>\r\n",
        "</tr>\r\n",
        "\r\n",
        "<tr>\r\n",
        "    <td><img src=\"https://upload.wikimedia.org/wikipedia/commons/thumb/0/0a/Laplace_pdf_mod.svg/488px-Laplace_pdf_mod.svg.png\" alt=\"Lapalace\"></img></td>\r\n",
        "    <td><p>Laplace/Gumbel</p></td> \r\n",
        "    <td> \r\n",
        "    𝜇 = mean, b = scale parameter,<br/> \r\n",
        "    x = random variable<br/>\r\n",
        "    f(x) = prabability\r\n",
        "    </td>\r\n",
        "    <td>\\begin{align}f(x) = \\frac{1}{2b}\\,{e}^{-|x-\\mu|/b}\\end{align}</td>\r\n",
        "    <td>\\begin{align}m\\end{align}</td> \r\n",
        "    <td>\\begin{align}s^2\\end{align}</td> \r\n",
        "    <td>\r\n",
        "    It has fatter tails than the normal distribution</br>\r\n",
        "    this double exponential distribution models where</br>\r\n",
        "    lower values and higher values follows distinct distibution</br>\r\n",
        "    1. Credit risk and exotic options in financial engineering</br>\r\n",
        "    2. Insurance claims\r\n",
        "</tr>\r\n",
        "\r\n",
        "<tr>\r\n",
        "    <td><img src=\"https://upload.wikimedia.org/wikipedia/commons/thumb/6/66/Logisticpdfunction.svg/330px-Logisticpdfunction.svg.png\" alt=\"Normal\"></img></td>\r\n",
        "    <td><p>Logistic</p></td> \r\n",
        "    <td> \r\n",
        "    𝜇 = mean, s = scale,<br/> \r\n",
        "    x = random variable<br/>\r\n",
        "    f(x) = prabability\r\n",
        "    </td>\r\n",
        "    <td>\\begin{align}f(x) = \\frac{{e}^{-(x-\\mu)/s}}{s{(1+{e}^{-(x-\\mu)/s})}^2}\\end{align}</td> \r\n",
        "    <td>mean = mode = median = \\begin{align}\\mu\\end{align}</td> \r\n",
        "    <td>\\begin{align}\\frac{s^2\\pi^{2}}{3}\\end{align}</td> \r\n",
        "    <td> \r\n",
        "      Normal distribution in shape but has heavier tails</br>\r\n",
        "      increases the robustness of analyses</br>\r\n",
        "      to model dependent  e.g. categorical binary variable or</br>\r\n",
        "      or continuous variable in logistic/linear regression</br>\r\n",
        "    </td>\r\n",
        "</tr>\r\n",
        "</table>"
      ]
    },
    {
      "cell_type": "markdown",
      "metadata": {
        "id": "44k2t_rCdU7C"
      },
      "source": [
        "## **Relation among distributions**"
      ]
    },
    {
      "cell_type": "markdown",
      "metadata": {
        "id": "Sx3qkE_naR9c"
      },
      "source": [
        "## **Poisson ~ Exponential ~ Gamma**\r\n",
        "\r\n",
        "1. Poisson, Exponential, and Gamma distribution model different aspects of the same process — the Poisson process\r\n",
        "2. Poisson is discrete (a count variable) and exponential & gamma is continuous (a waiting time)\r\n",
        "3. Poisson distribution is used to model the number of events in the future, Exponential distribution is used to predict the wait time until the very next event, and Gamma distribution is used to predict the wait time until the k-th event\r\n",
        "3. If arrivals of events follow a Poisson process with a event rate λ (number of events in  unit time),\r\n",
        "  - the wait time until next arrivals follows exponential(λ)\r\n",
        "  - the wait time until k arrivals follows Γ(λ, k)\r\n",
        "  - number of arrivals/events in given time period t follows Poisson(λ, t)\r\n",
        "\r\n",
        ">  For example, if shooting stars appear in the sky at a rate of λ per unit time, then the time you wait until you see your first shooting star is distributed exponentially with rate λ. If you watch the night sky for t units of time, then you could see 0,1,2,... shooting stars. The number of shooting stars that you count in this time is a Poisson(λt) random variable.\r\n",
        "\r\n",
        ">  But what if you ask, how long must I wait before I see n shooting stars?\r\n",
        "  The answer is a sum of independent exponentially distributed random variables, and it follows a gamma(k, λ) distribution (also sometimes called an Erlang distribution, to distinguish it from the general gamma distribution where k is allowed to be a non-integer).\r\n",
        "\r\n",
        "\r\n",
        "**Assumptions of the Poisson Distribution**\r\n",
        "  1. The number of possible occurrences in any interval is unlimited.\r\n",
        "  2. Memoryless: The  occurrences  are  independent and does not affect occurances of other events \r\n",
        "  3. The  mean/average  number  of  occurrences  must  remain  the  same  from  interval  to interval.\r\n"
      ]
    },
    {
      "cell_type": "markdown",
      "metadata": {
        "id": "FBRoHi5CDPyf"
      },
      "source": [
        "### **Normal Approximations**\r\n",
        "\r\n",
        "Standard Normal Distribution also know as z-Distribution: \r\n",
        "> It has Mean = 0, Variance = 1 denoted by $N(0,1)$\r\n",
        "\r\n",
        "> The central limit theorem also implies that certain distributions can be approximated by the normal distribution of a mean and variance as follows:\r\n",
        "\r\n",
        "1. Binomial distribution \r\n",
        "  - $B(n,p) \\sim N(np, np(1-p)$ for large n & for p not too close to 0 or 1. In other words np >= 5 and np(1-p) >= 5\r\n",
        "  - $z=\\frac {\\overline {x}-np}{\\sqrt{np(1-p)}} \\sim N(0,1)$ \r\n",
        "  - $z^2=\\frac {(\\overline {x}-np)^2}{np(1-p)} \\sim \\chi^2(1)$\r\n",
        "2. Poisson\r\n",
        " - $Poisson(\\lambda) \\sim N(\\lambda, \\lambda)$ when $\\lambda$ > 30\r\n",
        " - $z=\\frac {x-\\lambda}{\\sqrt{\\lambda}} \\sim N(0,1)$ \r\n",
        " - $z^2=\\frac {(x-\\lambda)^2}{\\lambda} \\sim \\chi^2(1)$\r\n",
        "3. The chi-squared distribution\r\n",
        " - $\\chi^2(k) \\sim N(k,2k)$ for large k\r\n",
        "4. The Student's t-distribution \r\n",
        " - $t_{n-1}=\\frac {x-\\bar{x}}{\\sqrt{s^2/n}} \\sim N(0,1)$ when sample size, n >= 30\r\n",
        " - $z^2=\\frac{(x-\\bar{x})^2}{\\sigma^2} = \\frac{(n-1)\\,s^2}{\\sigma^2} \\sim \\chi^2(n-1)$"
      ]
    },
    {
      "cell_type": "markdown",
      "metadata": {
        "id": "j_qrpnGDN6Gn"
      },
      "source": [
        "**Combination of Normal Variables**\r\n",
        "> 1. If $ X_{1},X_{2},\\ldots,X_{n}$ are n independent normal random variables, with means $\\mu_{1},\\mu_{2},\\ldots,\\mu_{n}$ and standard deviations $\\sigma_{1},\\sigma_{2},\\ldots,\\sigma_{n}$ then their sum $X_{1}+X_{2}+\\ldots+X_{n}$ will also be normally distributed with mean $\\mu_{1}+\\mu_{2}+\\ldots+\\mu_{n}$ and variance $\\sigma_{1}+\\sigma_{2}+\\ldots+\\sigma_{n}$\r\n",
        "\r\n",
        "> 2. If $X_{1},X_{2},\\ldots ,X_{n}$ are independent standard normal random variables, then the sum of their squares has the chi-squared distribution with ${\\text{n}}$ degrees of freedom\r\n",
        "$X_{1}^{2}+\\cdots +X_{n}^{2} \\sim \\chi^{2}(n)$\r\n",
        "\r\n",
        "> 3. If $X_{1},X_{2},\\ldots ,X_{n}$ are independent normally distributed random variables with means $\\mu$ and variances $\\sigma ^{2}$, then their sample mean follows Student's t-distribution with ${\\text{n}-1}$ degrees of freedom and variance $S^2$: $t={\\frac {{\\overline {X}}-\\mu }{S/{\\sqrt {n}}}}={\\frac {{\\frac {1}{n}}(X_{1}+\\cdots +X_{n})-\\mu }{\\sqrt {{\\frac {1}{n(n-1)}}\\left[(X_{1}-{\\overline {X}})^{2}+\\cdots +(X_{n}-{\\overline {X}})^{2}\\right]}}}\\sim t_{n-1}$\r\n",
        "\r\n",
        ">4. If $X_{1},X_{2},\\ldots ,X_{n}, Y_{1},Y_{2},\\ldots ,Y_{m}$ are independent standard normal random variables, then the ratio of their normalized sums of squares will have the F-distribution with (n, m) degrees of freedom: \r\n",
        "$F={\\frac {\\left(X_{1}^{2}+X_{2}^{2}+\\cdots +X_{n}^{2}\\right)/n}{\\left(Y_{1}^{2}+Y_{2}^{2}+\\cdots +Y_{m}^{2}\\right)/m}}\\sim F_{n,m}$\r\n"
      ]
    },
    {
      "cell_type": "markdown",
      "metadata": {
        "id": "YucH5c00eKvo"
      },
      "source": [
        "### **Chi-squared distribution**\r\n",
        "\r\n",
        "1. If $x \\sim N(0, 1)$ then $x^2 \\sim χ2(1)$\r\n",
        "2. If x ~ N(μ, σ) then $z^2 = (x–μ)^2/σ^2 \\sim χ2(1)$\r\n",
        "3. If a sample of size n: $x_{1}, …, x_{n}$ are $n$ independent observations drawn from a normally distributed population $N(μ,σ)$ then\r\n",
        " - standardized score $z = (x_{i}–μ)/σ \\sim N(0,1)$\r\n",
        " - sum of squares of standardized score $z^2 = \\sum_{i=1}^{n}(z_{i})^{2} \\sim \\chi^2(1+1+\\cdots \\text(n-times)) \\sim \\chi^2(n)$ \r\n",
        "4. If a sample is drawn from a normally distributed population $N(μ,σ)$ of sample size $n$ then\r\n",
        " -  the sample variance $s^2 \\sim \\frac{\\sigma^2}{(n-1)} \\chi^2(n-1)$\r\n",
        " - In other words, the random variable $\\frac{(n-1)s^2}{\\sigma^2} \\sim χ2(n–1)$\r\n",
        "\r\n",
        "\r\n"
      ]
    },
    {
      "cell_type": "markdown",
      "metadata": {
        "id": "b7Hg5vFwzAYD"
      },
      "source": [
        "## Bell shaped Distributions\r\n",
        "\r\n",
        "1. Normal Distribution\r\n",
        "2. Student-t Distribution\r\n",
        "3. Logistic Distribution\r\n"
      ]
    },
    {
      "cell_type": "markdown",
      "metadata": {
        "id": "rkeJx5hBbKdh"
      },
      "source": [
        "### Python Code for distributions"
      ]
    },
    {
      "cell_type": "code",
      "metadata": {
        "colab": {
          "base_uri": "https://localhost:8080/"
        },
        "id": "UY4ujcb0kClc",
        "outputId": "fe1ca122-02e3-423b-f087-a4e388d15b21"
      },
      "source": [
        "# Uniform\r\n",
        "import scipy.stats as stats\r\n",
        "X = stats.uniform(0.25)\r\n",
        "X.pdf(0.5)"
      ],
      "execution_count": 38,
      "outputs": [
        {
          "output_type": "execute_result",
          "data": {
            "text/plain": [
              "1.0"
            ]
          },
          "metadata": {
            "tags": []
          },
          "execution_count": 38
        }
      ]
    },
    {
      "cell_type": "code",
      "metadata": {
        "colab": {
          "base_uri": "https://localhost:8080/",
          "height": 334
        },
        "id": "VZp4DTheTTaV",
        "outputId": "e0de74dd-c296-4404-facb-60da23eb710b"
      },
      "source": [
        "# Uniform\r\n",
        "import numpy as np\r\n",
        "import seaborn as sns\r\n",
        "import matplotlib.pyplot as plt\r\n",
        "from scipy.stats import uniform\r\n",
        "n = 10000\r\n",
        "start = 10\r\n",
        "width = 20\r\n",
        "data_uniform = uniform.rvs(size=n, loc = start, scale=width)\r\n",
        "ax = sns.distplot(data_uniform,\r\n",
        "                  bins=100,\r\n",
        "                  kde=True,\r\n",
        "                  color='skyblue',\r\n",
        "                  hist_kws={\"linewidth\": 15,'alpha':1})\r\n",
        "ax.set(xlabel='Uniform Distribution ', ylabel='Frequency')\r\n",
        "plt.show()"
      ],
      "execution_count": 18,
      "outputs": [
        {
          "output_type": "stream",
          "text": [
            "/usr/local/lib/python3.6/dist-packages/seaborn/distributions.py:2557: FutureWarning: `distplot` is a deprecated function and will be removed in a future version. Please adapt your code to use either `displot` (a figure-level function with similar flexibility) or `histplot` (an axes-level function for histograms).\n",
            "  warnings.warn(msg, FutureWarning)\n"
          ],
          "name": "stderr"
        },
        {
          "output_type": "display_data",
          "data": {
            "image/png": "[encoded data removed]",
            "text/plain": [
              "<Figure size 432x288 with 1 Axes>"
            ]
          },
          "metadata": {
            "tags": [],
            "needs_background": "light"
          }
        }
      ]
    },
    {
      "cell_type": "code",
      "metadata": {
        "colab": {
          "base_uri": "https://localhost:8080/"
        },
        "id": "istDo1WpSdL5",
        "outputId": "775a2950-ccb8-4e6e-d9d4-ea54945c1891"
      },
      "source": [
        "# Bernoulli\r\n",
        "import scipy.stats as stats\r\n",
        "X = stats.bernoulli(0.25)\r\n",
        "X.pmf(0.5)"
      ],
      "execution_count": 9,
      "outputs": [
        {
          "output_type": "execute_result",
          "data": {
            "text/plain": [
              "0.0"
            ]
          },
          "metadata": {
            "tags": []
          },
          "execution_count": 9
        }
      ]
    },
    {
      "cell_type": "code",
      "metadata": {
        "colab": {
          "base_uri": "https://localhost:8080/",
          "height": 334
        },
        "id": "zhv48sVdek_U",
        "outputId": "9f5ead30-adf7-4c8e-f300-a8e10ebfea6d"
      },
      "source": [
        "# Bernoulli\r\n",
        "import numpy as np\r\n",
        "import seaborn as sns\r\n",
        "import matplotlib.pyplot as plt\r\n",
        "from scipy.stats import bernoulli\r\n",
        "data_bern = bernoulli.rvs(size=10000,p=0.6) #.rvs performs simulation of given size\r\n",
        "ax = sns.distplot(data_bern,\r\n",
        "                  kde=False,\r\n",
        "                  color='skyblue',\r\n",
        "                  hist_kws={\"linewidth\": 15,'alpha':1})\r\n",
        "ax.set(xlabel='Bernoulli Distribution', ylabel='Frequency')\r\n",
        "plt.show()"
      ],
      "execution_count": 29,
      "outputs": [
        {
          "output_type": "stream",
          "text": [
            "/usr/local/lib/python3.6/dist-packages/seaborn/distributions.py:2557: FutureWarning: `distplot` is a deprecated function and will be removed in a future version. Please adapt your code to use either `displot` (a figure-level function with similar flexibility) or `histplot` (an axes-level function for histograms).\n",
            "  warnings.warn(msg, FutureWarning)\n"
          ],
          "name": "stderr"
        },
        {
          "output_type": "display_data",
          "data": {
            "image/png": "[encoded data removed]",
            "text/plain": [
              "<Figure size 432x288 with 1 Axes>"
            ]
          },
          "metadata": {
            "tags": [],
            "needs_background": "light"
          }
        }
      ]
    },
    {
      "cell_type": "code",
      "metadata": {
        "colab": {
          "base_uri": "https://localhost:8080/"
        },
        "id": "VoMk7ktV1n3Q",
        "outputId": "d79bc959-ed5a-469d-f1cd-174e19fb4b6e"
      },
      "source": [
        "#Binomial\r\n",
        "from scipy import stats\r\n",
        "X = stats.binom(10, 0.3) # X is a binomial random variable\r\n",
        "print(X.pmf(3))           # P(X = 3)\r\n",
        "print(X.cdf(5))           # P(X <= 5)\r\n",
        "print(X.mean())           # E[X]\r\n",
        "print(X.var())            # Var(X)\r\n",
        "print(X.std())            # Std(X)\r\n",
        "print(X.rvs())            # Get a random sample from X\r\n",
        "print(X.rvs(10))          # Get 10 random samples form X\r\n",
        "print(X.ppf(0.01))        # Percent point function inverse of CDF\r\n",
        "mean, var, skew, kurt = X.stats(moments='mvsk')\r\n",
        "print(mean, var, skew, kurt)"
      ],
      "execution_count": 27,
      "outputs": [
        {
          "output_type": "stream",
          "text": [
            "0.26682793200000016\n",
            "0.9526510126\n",
            "3.0\n",
            "2.0999999999999996\n",
            "1.4491376746189437\n",
            "3\n",
            "[3 1 4 1 3 5 3 6 4 1]\n",
            "0.0\n",
            "3.0 2.0999999999999996 0.2760262237369417 -0.12380952380952373\n"
          ],
          "name": "stdout"
        }
      ]
    },
    {
      "cell_type": "code",
      "metadata": {
        "colab": {
          "base_uri": "https://localhost:8080/",
          "height": 334
        },
        "id": "3-qujplvc89_",
        "outputId": "3935645f-c6f5-4efc-f788-6fd6ad68e3d8"
      },
      "source": [
        "# Binomial\r\n",
        "import numpy as np\r\n",
        "import seaborn as sns\r\n",
        "import matplotlib.pyplot as plt\r\n",
        "from scipy.stats import binom\r\n",
        "data_binom = binom.rvs(n=20, p=0.6, size=10000)\r\n",
        "ax = sns.distplot(data_binom,\r\n",
        "                  bins=100,\r\n",
        "                  kde=False,\r\n",
        "                  color='skyblue',\r\n",
        "                  hist_kws={\"linewidth\": 15,'alpha':1})\r\n",
        "ax.set(xlabel='Binomial Distribution', ylabel='Frequency')\r\n",
        "plt.show()"
      ],
      "execution_count": 47,
      "outputs": [
        {
          "output_type": "stream",
          "text": [
            "/usr/local/lib/python3.6/dist-packages/seaborn/distributions.py:2557: FutureWarning: `distplot` is a deprecated function and will be removed in a future version. Please adapt your code to use either `displot` (a figure-level function with similar flexibility) or `histplot` (an axes-level function for histograms).\n",
            "  warnings.warn(msg, FutureWarning)\n"
          ],
          "name": "stderr"
        },
        {
          "output_type": "display_data",
          "data": {
            "image/png": "[encoded data removed]",
            "text/plain": [
              "<Figure size 432x288 with 1 Axes>"
            ]
          },
          "metadata": {
            "tags": [],
            "needs_background": "light"
          }
        }
      ]
    },
    {
      "cell_type": "code",
      "metadata": {
        "colab": {
          "base_uri": "https://localhost:8080/",
          "height": 334
        },
        "id": "kBsxVVtWZ8TK",
        "outputId": "cc3e87cb-85cf-4dae-c26d-ba9712f8dcf1"
      },
      "source": [
        "# Geometric\r\n",
        "import numpy as np\r\n",
        "import seaborn as sns\r\n",
        "import matplotlib.pyplot as plt\r\n",
        "from scipy.stats import geom\r\n",
        "data_geom = geom.rvs(p=0.5, size=10000)\r\n",
        "ax = sns.distplot(data_geom,\r\n",
        "                  bins=100,\r\n",
        "                  kde=False,\r\n",
        "                  color='skyblue',\r\n",
        "                  hist_kws={\"linewidth\": 15,'alpha':1})\r\n",
        "ax.set(xlabel='Geometric Distribution', ylabel='Frequency')\r\n",
        "plt.show()"
      ],
      "execution_count": 36,
      "outputs": [
        {
          "output_type": "stream",
          "text": [
            "/usr/local/lib/python3.6/dist-packages/seaborn/distributions.py:2557: FutureWarning: `distplot` is a deprecated function and will be removed in a future version. Please adapt your code to use either `displot` (a figure-level function with similar flexibility) or `histplot` (an axes-level function for histograms).\n",
            "  warnings.warn(msg, FutureWarning)\n"
          ],
          "name": "stderr"
        },
        {
          "output_type": "display_data",
          "data": {
            "image/png": "[encoded data removed]",
            "text/plain": [
              "<Figure size 432x288 with 1 Axes>"
            ]
          },
          "metadata": {
            "tags": [],
            "needs_background": "light"
          }
        }
      ]
    },
    {
      "cell_type": "code",
      "metadata": {
        "colab": {
          "base_uri": "https://localhost:8080/",
          "height": 334
        },
        "id": "q-wTmq6Ljh9Y",
        "outputId": "0c3f4f27-dda1-489b-89f2-6a3ece9941c3"
      },
      "source": [
        "# HyperGeometric\r\n",
        "import numpy as np\r\n",
        "import seaborn as sns\r\n",
        "import matplotlib.pyplot as plt\r\n",
        "from scipy.stats import hypergeom\r\n",
        "data_hyper = hypergeom.rvs(M=100, n=30, N=25, loc=0, size=10000)\r\n",
        "ax = sns.distplot(data_hyper,\r\n",
        "                  bins=100,\r\n",
        "                  kde=False,\r\n",
        "                  color='skyblue',\r\n",
        "                  hist_kws={\"linewidth\": 15,'alpha':1})\r\n",
        "ax.set(xlabel='HyperGeometric Distribution', ylabel='Frequency')\r\n",
        "plt.show()"
      ],
      "execution_count": 45,
      "outputs": [
        {
          "output_type": "stream",
          "text": [
            "/usr/local/lib/python3.6/dist-packages/seaborn/distributions.py:2557: FutureWarning: `distplot` is a deprecated function and will be removed in a future version. Please adapt your code to use either `displot` (a figure-level function with similar flexibility) or `histplot` (an axes-level function for histograms).\n",
            "  warnings.warn(msg, FutureWarning)\n"
          ],
          "name": "stderr"
        },
        {
          "output_type": "display_data",
          "data": {
            "image/png": "[encoded data removed]",
            "text/plain": [
              "<Figure size 432x288 with 1 Axes>"
            ]
          },
          "metadata": {
            "tags": [],
            "needs_background": "light"
          }
        }
      ]
    },
    {
      "cell_type": "code",
      "metadata": {
        "colab": {
          "base_uri": "https://localhost:8080/",
          "height": 334
        },
        "id": "jChZmBRWkwvR",
        "outputId": "109c05fd-0f97-42eb-b7a5-48f5c3632c11"
      },
      "source": [
        "# Negative Binomial\r\n",
        "import numpy as np\r\n",
        "import seaborn as sns\r\n",
        "import matplotlib.pyplot as plt\r\n",
        "from scipy.stats import nbinom\r\n",
        "data_nbinom = nbinom.rvs(n=20, p=0.5, loc=0, size=10000)\r\n",
        "ax = sns.distplot(data_nbinom,\r\n",
        "                  bins=100,\r\n",
        "                  kde=False,\r\n",
        "                  color='skyblue',\r\n",
        "                  hist_kws={\"linewidth\": 15,'alpha':1})\r\n",
        "ax.set(xlabel='Negative Binomial Distribution', ylabel='Frequency')\r\n",
        "plt.show()"
      ],
      "execution_count": 43,
      "outputs": [
        {
          "output_type": "stream",
          "text": [
            "/usr/local/lib/python3.6/dist-packages/seaborn/distributions.py:2557: FutureWarning: `distplot` is a deprecated function and will be removed in a future version. Please adapt your code to use either `displot` (a figure-level function with similar flexibility) or `histplot` (an axes-level function for histograms).\n",
            "  warnings.warn(msg, FutureWarning)\n"
          ],
          "name": "stderr"
        },
        {
          "output_type": "display_data",
          "data": {
            "image/png": "[encoded data removed]",
            "text/plain": [
              "<Figure size 432x288 with 1 Axes>"
            ]
          },
          "metadata": {
            "tags": [],
            "needs_background": "light"
          }
        }
      ]
    },
    {
      "cell_type": "code",
      "metadata": {
        "colab": {
          "base_uri": "https://localhost:8080/",
          "height": 334
        },
        "id": "UQmvqjBsZ8G1",
        "outputId": "4c71cc1f-eb07-47c6-fa34-f50b570afe79"
      },
      "source": [
        "# Poisson\r\n",
        "import numpy as np\r\n",
        "import seaborn as sns\r\n",
        "import matplotlib.pyplot as plt\r\n",
        "from scipy.stats import poisson\r\n",
        "data_poisson = poisson.rvs(mu=3, size=10000)\r\n",
        "ax = sns.distplot(data_poisson,\r\n",
        "                  bins=100,\r\n",
        "                  kde=False,\r\n",
        "                  color='skyblue',\r\n",
        "                  hist_kws={\"linewidth\": 15,'alpha':1})\r\n",
        "ax.set(xlabel='Poisson Distribution', ylabel='Frequency')\r\n",
        "plt.show()"
      ],
      "execution_count": 25,
      "outputs": [
        {
          "output_type": "stream",
          "text": [
            "/usr/local/lib/python3.6/dist-packages/seaborn/distributions.py:2557: FutureWarning: `distplot` is a deprecated function and will be removed in a future version. Please adapt your code to use either `displot` (a figure-level function with similar flexibility) or `histplot` (an axes-level function for histograms).\n",
            "  warnings.warn(msg, FutureWarning)\n"
          ],
          "name": "stderr"
        },
        {
          "output_type": "display_data",
          "data": {
            "image/png": "[encoded data removed]",
            "text/plain": [
              "<Figure size 432x288 with 1 Axes>"
            ]
          },
          "metadata": {
            "tags": [],
            "needs_background": "light"
          }
        }
      ]
    },
    {
      "cell_type": "code",
      "metadata": {
        "colab": {
          "base_uri": "https://localhost:8080/",
          "height": 334
        },
        "id": "HM_crzBxtmOf",
        "outputId": "7d65c45e-576c-4c07-a6f2-ca844d8c05bf"
      },
      "source": [
        "# Exponential\r\n",
        "import numpy as np\r\n",
        "import seaborn as sns\r\n",
        "import matplotlib.pyplot as plt\r\n",
        "from scipy.stats import expon\r\n",
        "data_expon = expon.rvs(scale=1,loc=0,size=1000)\r\n",
        "ax = sns.distplot(data_expon,\r\n",
        "                  bins=100,\r\n",
        "                  kde=True,\r\n",
        "                  color='skyblue',\r\n",
        "                  hist_kws={\"linewidth\": 15,'alpha':1})\r\n",
        "ax.set(xlabel='Exponential Distribution', ylabel='Frequency')\r\n",
        "plt.show()"
      ],
      "execution_count": 22,
      "outputs": [
        {
          "output_type": "stream",
          "text": [
            "/usr/local/lib/python3.6/dist-packages/seaborn/distributions.py:2557: FutureWarning: `distplot` is a deprecated function and will be removed in a future version. Please adapt your code to use either `displot` (a figure-level function with similar flexibility) or `histplot` (an axes-level function for histograms).\n",
            "  warnings.warn(msg, FutureWarning)\n"
          ],
          "name": "stderr"
        },
        {
          "output_type": "display_data",
          "data": {
            "image/png": "[encoded data removed]",
            "text/plain": [
              "<Figure size 432x288 with 1 Axes>"
            ]
          },
          "metadata": {
            "tags": [],
            "needs_background": "light"
          }
        }
      ]
    },
    {
      "cell_type": "code",
      "metadata": {
        "colab": {
          "base_uri": "https://localhost:8080/",
          "height": 334
        },
        "id": "hWKDXon7SUPE",
        "outputId": "9a822e6c-a641-44ce-c67b-792fb40f4748"
      },
      "source": [
        "# Beta\r\n",
        "# X = stats.beta(1, 3) # Declare X to be a beta random variable\r\n",
        "# print X.pdf(0.5)     # f(0.5), the probability density at 1\r\n",
        "# print X.cdf(0.7)     # F(0.7) which is also P(X < 0.7)\r\n",
        "# print X.rvs()        # Get a random sample from X\r\n",
        "import numpy as np\r\n",
        "import seaborn as sns\r\n",
        "import matplotlib.pyplot as plt\r\n",
        "from scipy.stats import beta\r\n",
        "data_beta = beta.rvs(a=0.5, b=0.5, size=10000)\r\n",
        "#data_pdf = beta.rvs(x, a=5, b=5)\r\n",
        "ax = sns.distplot(data_beta,\r\n",
        "                  bins=100,\r\n",
        "                  kde=True,\r\n",
        "                  color='skyblue',\r\n",
        "                  hist_kws={\"linewidth\": 15,'alpha':1})\r\n",
        "ax.set(xlabel='Beta Distribution', ylabel='Frequency')\r\n",
        "plt.show()"
      ],
      "execution_count": 32,
      "outputs": [
        {
          "output_type": "stream",
          "text": [
            "/usr/local/lib/python3.6/dist-packages/seaborn/distributions.py:2557: FutureWarning: `distplot` is a deprecated function and will be removed in a future version. Please adapt your code to use either `displot` (a figure-level function with similar flexibility) or `histplot` (an axes-level function for histograms).\n",
            "  warnings.warn(msg, FutureWarning)\n"
          ],
          "name": "stderr"
        },
        {
          "output_type": "display_data",
          "data": {
            "image/png": "[encoded data removed]",
            "text/plain": [
              "<Figure size 432x288 with 1 Axes>"
            ]
          },
          "metadata": {
            "tags": [],
            "needs_background": "light"
          }
        }
      ]
    },
    {
      "cell_type": "code",
      "metadata": {
        "colab": {
          "base_uri": "https://localhost:8080/",
          "height": 334
        },
        "id": "3K9yD7hcSUKu",
        "outputId": "aec6d6a2-843f-4bbf-ca91-faf70a28a6db"
      },
      "source": [
        "# Gamma\r\n",
        "import numpy as np\r\n",
        "import seaborn as sns\r\n",
        "import matplotlib.pyplot as plt\r\n",
        "from scipy.stats import gamma\r\n",
        "data_gamma = gamma.rvs(a=5, size=10000)\r\n",
        "ax = sns.distplot(data_gamma,\r\n",
        "                  bins=100,\r\n",
        "                  kde=True,\r\n",
        "                  color='skyblue',\r\n",
        "                  hist_kws={\"linewidth\": 15,'alpha':1})\r\n",
        "ax.set(xlabel='Gamma Distribution', ylabel='Frequency')\r\n",
        "plt.show()"
      ],
      "execution_count": 21,
      "outputs": [
        {
          "output_type": "stream",
          "text": [
            "/usr/local/lib/python3.6/dist-packages/seaborn/distributions.py:2557: FutureWarning: `distplot` is a deprecated function and will be removed in a future version. Please adapt your code to use either `displot` (a figure-level function with similar flexibility) or `histplot` (an axes-level function for histograms).\n",
            "  warnings.warn(msg, FutureWarning)\n"
          ],
          "name": "stderr"
        },
        {
          "output_type": "display_data",
          "data": {
            "image/png": "[encoded data removed]",
            "text/plain": [
              "<Figure size 432x288 with 1 Axes>"
            ]
          },
          "metadata": {
            "tags": [],
            "needs_background": "light"
          }
        }
      ]
    },
    {
      "cell_type": "code",
      "metadata": {
        "colab": {
          "base_uri": "https://localhost:8080/",
          "height": 334
        },
        "id": "QU-W0N-cmzft",
        "outputId": "e638d487-7f6b-4a23-eadd-4d79bb497a9e"
      },
      "source": [
        "# Weibull\r\n",
        "import numpy as np\r\n",
        "import seaborn as sns\r\n",
        "import matplotlib.pyplot as plt\r\n",
        "from scipy.stats import weibull_max\r\n",
        "# generate random numbers from N(0,1)\r\n",
        "data_weibull_max = weibull_max.rvs(c=0.5, loc=5, scale=2, size=10000)\r\n",
        "ax = sns.distplot(data_weibull_max,\r\n",
        "                  bins=100,\r\n",
        "                  kde=True,\r\n",
        "                  color='skyblue',\r\n",
        "                  hist_kws={\"linewidth\": 15,'alpha':1})\r\n",
        "ax.set(xlabel='Weibull Distribution', ylabel='Frequency')\r\n",
        "plt.show()"
      ],
      "execution_count": 54,
      "outputs": [
        {
          "output_type": "stream",
          "text": [
            "/usr/local/lib/python3.6/dist-packages/seaborn/distributions.py:2557: FutureWarning: `distplot` is a deprecated function and will be removed in a future version. Please adapt your code to use either `displot` (a figure-level function with similar flexibility) or `histplot` (an axes-level function for histograms).\n",
            "  warnings.warn(msg, FutureWarning)\n"
          ],
          "name": "stderr"
        },
        {
          "output_type": "display_data",
          "data": {
            "image/png": "[encoded data removed]",
            "text/plain": [
              "<Figure size 432x288 with 1 Axes>"
            ]
          },
          "metadata": {
            "tags": [],
            "needs_background": "light"
          }
        }
      ]
    },
    {
      "cell_type": "code",
      "metadata": {
        "colab": {
          "base_uri": "https://localhost:8080/",
          "height": 338
        },
        "id": "vsHxTnRXn4fQ",
        "outputId": "4e598d11-aef6-4b50-aef2-6b50ca5b557e"
      },
      "source": [
        "# Pareto\r\n",
        "import numpy as np\r\n",
        "import seaborn as sns\r\n",
        "import matplotlib.pyplot as plt\r\n",
        "from scipy.stats import pareto\r\n",
        "# generate random numbers from N(0,1)\r\n",
        "data_pareto = pareto.rvs(b=20, loc=5, scale=2, size=10000)\r\n",
        "ax = sns.distplot(data_pareto,\r\n",
        "                  bins=100,\r\n",
        "                  kde=True,\r\n",
        "                  color='skyblue',\r\n",
        "                  hist_kws={\"linewidth\": 15,'alpha':1})\r\n",
        "ax.set(xlabel='Pareto Distribution', ylabel='Frequency')\r\n",
        "plt.show()"
      ],
      "execution_count": 61,
      "outputs": [
        {
          "output_type": "stream",
          "text": [
            "/usr/local/lib/python3.6/dist-packages/seaborn/distributions.py:2557: FutureWarning: `distplot` is a deprecated function and will be removed in a future version. Please adapt your code to use either `displot` (a figure-level function with similar flexibility) or `histplot` (an axes-level function for histograms).\n",
            "  warnings.warn(msg, FutureWarning)\n"
          ],
          "name": "stderr"
        },
        {
          "output_type": "display_data",
          "data": {
            "image/png": "[encoded data removed]",
            "text/plain": [
              "<Figure size 432x288 with 1 Axes>"
            ]
          },
          "metadata": {
            "tags": [],
            "needs_background": "light"
          }
        }
      ]
    },
    {
      "cell_type": "code",
      "metadata": {
        "colab": {
          "base_uri": "https://localhost:8080/",
          "height": 334
        },
        "id": "nPN250_GtmkM",
        "outputId": "a4a42221-5b36-43e0-a22c-1bd5a5cda82b"
      },
      "source": [
        "# Normal\r\n",
        "import numpy as np\r\n",
        "import seaborn as sns\r\n",
        "import matplotlib.pyplot as plt\r\n",
        "from scipy.stats import norm\r\n",
        "# generate random numbers from N(0,1)\r\n",
        "data_normal = norm.rvs(loc=5, scale=2, size=10000)\r\n",
        "ax = sns.distplot(data_normal,\r\n",
        "                  bins=100,\r\n",
        "                  kde=True,\r\n",
        "                  color='skyblue',\r\n",
        "                  hist_kws={\"linewidth\": 15,'alpha':1})\r\n",
        "ax.set(xlabel='Normal Distribution', ylabel='Frequency')\r\n",
        "plt.show()"
      ],
      "execution_count": 52,
      "outputs": [
        {
          "output_type": "stream",
          "text": [
            "/usr/local/lib/python3.6/dist-packages/seaborn/distributions.py:2557: FutureWarning: `distplot` is a deprecated function and will be removed in a future version. Please adapt your code to use either `displot` (a figure-level function with similar flexibility) or `histplot` (an axes-level function for histograms).\n",
            "  warnings.warn(msg, FutureWarning)\n"
          ],
          "name": "stderr"
        },
        {
          "output_type": "display_data",
          "data": {
            "image/png": "[encoded data removed]",
            "text/plain": [
              "<Figure size 432x288 with 1 Axes>"
            ]
          },
          "metadata": {
            "tags": [],
            "needs_background": "light"
          }
        }
      ]
    },
    {
      "cell_type": "code",
      "metadata": {
        "colab": {
          "base_uri": "https://localhost:8080/",
          "height": 334
        },
        "id": "q04o3Olsmdvm",
        "outputId": "9e7850bc-c316-44f2-fb0b-b62e036f4db7"
      },
      "source": [
        "# Standard Normal\r\n",
        "import numpy as np\r\n",
        "import seaborn as sns\r\n",
        "import matplotlib.pyplot as plt\r\n",
        "from scipy.stats import norm\r\n",
        "# generate random numbers from N(0,1)\r\n",
        "data_stdnormal = norm.rvs(loc=0, scale=1, size=10000)\r\n",
        "ax = sns.distplot(data_stdnormal,\r\n",
        "                  bins=100,\r\n",
        "                  kde=True,\r\n",
        "                  color='skyblue',\r\n",
        "                  hist_kws={\"linewidth\": 15,'alpha':1})\r\n",
        "ax.set(xlabel='Standard Normal Distribution', ylabel='Frequency')\r\n",
        "plt.show()"
      ],
      "execution_count": 51,
      "outputs": [
        {
          "output_type": "stream",
          "text": [
            "/usr/local/lib/python3.6/dist-packages/seaborn/distributions.py:2557: FutureWarning: `distplot` is a deprecated function and will be removed in a future version. Please adapt your code to use either `displot` (a figure-level function with similar flexibility) or `histplot` (an axes-level function for histograms).\n",
            "  warnings.warn(msg, FutureWarning)\n"
          ],
          "name": "stderr"
        },
        {
          "output_type": "display_data",
          "data": {
            "image/png": "[encoded data removed]",
            "text/plain": [
              "<Figure size 432x288 with 1 Axes>"
            ]
          },
          "metadata": {
            "tags": [],
            "needs_background": "light"
          }
        }
      ]
    },
    {
      "cell_type": "code",
      "metadata": {
        "colab": {
          "base_uri": "https://localhost:8080/",
          "height": 334
        },
        "id": "WrHHcdH3SUHO",
        "outputId": "7254701d-e954-43be-9447-0a218a01e1c8"
      },
      "source": [
        "# log Normal\r\n",
        "import numpy as np\r\n",
        "import seaborn as sns\r\n",
        "import matplotlib.pyplot as plt\r\n",
        "from scipy.stats import lognorm\r\n",
        "# generate random numbers from N(0,1)\r\n",
        "data_lognormal = lognorm.rvs(s=0.4, loc=0, scale=1, size=10000)\r\n",
        "ax = sns.distplot(data_lognormal,\r\n",
        "                  bins=100,\r\n",
        "                  kde=True,\r\n",
        "                  color='skyblue',\r\n",
        "                  hist_kws={\"linewidth\": 15,'alpha':1})\r\n",
        "ax.set(xlabel='Log Normal Distribution', ylabel='Frequency')\r\n",
        "plt.show()"
      ],
      "execution_count": 50,
      "outputs": [
        {
          "output_type": "stream",
          "text": [
            "/usr/local/lib/python3.6/dist-packages/seaborn/distributions.py:2557: FutureWarning: `distplot` is a deprecated function and will be removed in a future version. Please adapt your code to use either `displot` (a figure-level function with similar flexibility) or `histplot` (an axes-level function for histograms).\n",
            "  warnings.warn(msg, FutureWarning)\n"
          ],
          "name": "stderr"
        },
        {
          "output_type": "display_data",
          "data": {
            "image/png": "[encoded data removed]",
            "text/plain": [
              "<Figure size 432x288 with 1 Axes>"
            ]
          },
          "metadata": {
            "tags": [],
            "needs_background": "light"
          }
        }
      ]
    },
    {
      "cell_type": "code",
      "metadata": {
        "colab": {
          "base_uri": "https://localhost:8080/",
          "height": 334
        },
        "id": "f2qOmwofoh_s",
        "outputId": "6a961682-5feb-4265-e2de-8d0fe0de3c2f"
      },
      "source": [
        "# Student-t\r\n",
        "import numpy as np\r\n",
        "import seaborn as sns\r\n",
        "import matplotlib.pyplot as plt\r\n",
        "from scipy.stats import t\r\n",
        "data_t = t.rvs(df=3, loc=5, scale=1, size=10000)\r\n",
        "ax = sns.distplot(data_t,\r\n",
        "                  bins=100,\r\n",
        "                  kde=True,\r\n",
        "                  color='skyblue',\r\n",
        "                  hist_kws={\"linewidth\": 15,'alpha':1})\r\n",
        "ax.set(xlabel='Student-t Distribution', ylabel='Frequency')\r\n",
        "plt.show()"
      ],
      "execution_count": 68,
      "outputs": [
        {
          "output_type": "stream",
          "text": [
            "/usr/local/lib/python3.6/dist-packages/seaborn/distributions.py:2557: FutureWarning: `distplot` is a deprecated function and will be removed in a future version. Please adapt your code to use either `displot` (a figure-level function with similar flexibility) or `histplot` (an axes-level function for histograms).\n",
            "  warnings.warn(msg, FutureWarning)\n"
          ],
          "name": "stderr"
        },
        {
          "output_type": "display_data",
          "data": {
            "image/png": "[encoded data removed]",
            "text/plain": [
              "<Figure size 432x288 with 1 Axes>"
            ]
          },
          "metadata": {
            "tags": [],
            "needs_background": "light"
          }
        }
      ]
    },
    {
      "cell_type": "code",
      "metadata": {
        "colab": {
          "base_uri": "https://localhost:8080/",
          "height": 334
        },
        "id": "gtnWABbypizN",
        "outputId": "f6c25e01-dab3-4f2e-e66e-862ef6194a58"
      },
      "source": [
        "# F Distribution\r\n",
        "import numpy as np\r\n",
        "import seaborn as sns\r\n",
        "import matplotlib.pyplot as plt\r\n",
        "from scipy.stats import f\r\n",
        "# generate random numbers from N(0,1)\r\n",
        "data_f = f.rvs(dfn=4, dfd=6, loc=5, scale=1, size=10000)\r\n",
        "ax = sns.distplot(data_f,\r\n",
        "                  bins=100,\r\n",
        "                  kde=True,\r\n",
        "                  color='skyblue',\r\n",
        "                  hist_kws={\"linewidth\": 15,'alpha':1})\r\n",
        "ax.set(xlabel='F Distribution', ylabel='Frequency')\r\n",
        "plt.show()"
      ],
      "execution_count": 74,
      "outputs": [
        {
          "output_type": "stream",
          "text": [
            "/usr/local/lib/python3.6/dist-packages/seaborn/distributions.py:2557: FutureWarning: `distplot` is a deprecated function and will be removed in a future version. Please adapt your code to use either `displot` (a figure-level function with similar flexibility) or `histplot` (an axes-level function for histograms).\n",
            "  warnings.warn(msg, FutureWarning)\n"
          ],
          "name": "stderr"
        },
        {
          "output_type": "display_data",
          "data": {
            "image/png": "[encoded data removed]",
            "text/plain": [
              "<Figure size 432x288 with 1 Axes>"
            ]
          },
          "metadata": {
            "tags": [],
            "needs_background": "light"
          }
        }
      ]
    },
    {
      "cell_type": "code",
      "metadata": {
        "colab": {
          "base_uri": "https://localhost:8080/",
          "height": 334
        },
        "id": "SaUHk_JBnW_N",
        "outputId": "f7cb5434-4202-4c05-9b35-23639fd13e7d"
      },
      "source": [
        "# ChiSquared(2)\r\n",
        "import numpy as np\r\n",
        "import seaborn as sns\r\n",
        "import matplotlib.pyplot as plt\r\n",
        "from scipy.stats import chi2\r\n",
        "# generate random numbers from N(0,1)\r\n",
        "data_chisquare = chi2.rvs(df=2, loc=5, scale=2, size=10000)\r\n",
        "ax = sns.distplot(data_chisquare,\r\n",
        "                  bins=100,\r\n",
        "                  kde=True,\r\n",
        "                  color='skyblue',\r\n",
        "                  hist_kws={\"linewidth\": 15,'alpha':1})\r\n",
        "ax.set(xlabel='Chi-Squared Distribution', ylabel='Frequency')\r\n",
        "plt.show()"
      ],
      "execution_count": 57,
      "outputs": [
        {
          "output_type": "stream",
          "text": [
            "/usr/local/lib/python3.6/dist-packages/seaborn/distributions.py:2557: FutureWarning: `distplot` is a deprecated function and will be removed in a future version. Please adapt your code to use either `displot` (a figure-level function with similar flexibility) or `histplot` (an axes-level function for histograms).\n",
            "  warnings.warn(msg, FutureWarning)\n"
          ],
          "name": "stderr"
        },
        {
          "output_type": "display_data",
          "data": {
            "image/png": "[encoded data removed]",
            "text/plain": [
              "<Figure size 432x288 with 1 Axes>"
            ]
          },
          "metadata": {
            "tags": [],
            "needs_background": "light"
          }
        }
      ]
    },
    {
      "cell_type": "code",
      "metadata": {
        "colab": {
          "base_uri": "https://localhost:8080/",
          "height": 334
        },
        "id": "8W_aYGNSoOYm",
        "outputId": "f84bff0f-24e1-4150-a05e-8fd67e39bc3e"
      },
      "source": [
        "# Logistic\r\n",
        "import numpy as np\r\n",
        "import seaborn as sns\r\n",
        "import matplotlib.pyplot as plt\r\n",
        "from scipy.stats import logistic\r\n",
        "# generate random numbers from N(0,1)\r\n",
        "data_logistic = logistic.rvs(loc=5, scale=2, size=10000)\r\n",
        "ax = sns.distplot(data_logistic,\r\n",
        "                  bins=100,\r\n",
        "                  kde=True,\r\n",
        "                  color='skyblue',\r\n",
        "                  hist_kws={\"linewidth\": 15,'alpha':1})\r\n",
        "ax.set(xlabel='Logistic Distribution', ylabel='Frequency')\r\n",
        "plt.show()"
      ],
      "execution_count": 63,
      "outputs": [
        {
          "output_type": "stream",
          "text": [
            "/usr/local/lib/python3.6/dist-packages/seaborn/distributions.py:2557: FutureWarning: `distplot` is a deprecated function and will be removed in a future version. Please adapt your code to use either `displot` (a figure-level function with similar flexibility) or `histplot` (an axes-level function for histograms).\n",
            "  warnings.warn(msg, FutureWarning)\n"
          ],
          "name": "stderr"
        },
        {
          "output_type": "display_data",
          "data": {
            "image/png": "[encoded data removed]",
            "text/plain": [
              "<Figure size 432x288 with 1 Axes>"
            ]
          },
          "metadata": {
            "tags": [],
            "needs_background": "light"
          }
        }
      ]
    }
  ]
}