{
  "nbformat": 4,
  "nbformat_minor": 0,
  "metadata": {
    "colab": {
      "name": "Normal Distribution and Normality Tests in Python.ipynb",
      "provenance": [],
      "collapsed_sections": [],
      "authorship_tag": "ABX9TyOQecZLbquYbvUMqvMrshhK",
      "include_colab_link": true
    },
    "kernelspec": {
      "name": "python3",
      "display_name": "Python 3"
    }
  },
  "cells": [
    {
      "cell_type": "markdown",
      "metadata": {
        "id": "view-in-github",
        "colab_type": "text"
      },
      "source": [
        "<a href=\"https://colab.research.google.com/github/ram-anand/ram-anand.github.io/blob/main/Normal_Distribution_and_Normality_Tests_in_Python.ipynb\" target=\"_parent\"><img src=\"https://colab.research.google.com/assets/colab-badge.svg\" alt=\"Open In Colab\"/></a>"
      ]
    },
    {
      "cell_type": "markdown",
      "metadata": {
        "id": "0mHJBBPSJJo1"
      },
      "source": [
        "## **Normal Distribution**\r\n",
        "\r\n",
        "<img src=\"https://upload.wikimedia.org/wikipedia/commons/thumb/1/1a/Boxplot_vs_PDF.svg/525px-Boxplot_vs_PDF.svg.png\" width=\"350\" height=\"300\">\r\n",
        "\r\n",
        "<img src=\"http://statisticstechs.weebly.com/uploads/6/5/2/4/65248169/published/picture5_6.png\" width=\"410\" height=\"300\">\r\n",
        "\r\n",
        " - The mean, mode, and median of the distribution are equal\r\n",
        " - We only need to use the mean and standard deviation to explain the entire distribution\r\n",
        " - Unimodel distribution, only one peak\r\n",
        " - The mean, mode and median are all equal\r\n",
        " - The curve is symmetric at the center (i.e. around the mean, μ), Exactly half of the values are to the left of center and exactly half the values are to the right.\r\n",
        " - The total area under the curve is 1.\r\n",
        "\r\n",
        "> Standard Normal Distribution also know as z-Distribution: \r\n",
        " - It has Mean = 0, Variance = 1 denoted by N(0,1)\r\n",
        "\r\n",
        "**Empirical rule or 68–95–99.7 rule**\r\n",
        "\r\n",
        " - For an approximately normal data set, the values within one standard deviation of the mean account for about 68% of the  data; while within two standard deviations account for about 95%; and within three standard deviations account for about 99.7%. \r\n",
        "\r\n",
        "<img src=\"https://upload.wikimedia.org/wikipedia/commons/thumb/2/22/Empirical_rule_histogram.svg/330px-Empirical_rule_histogram.svg.png\" alt=\"empirical rule\" width=\"370\" height=\"300\">\r\n",
        "<img src=\"https://www.mathsisfun.com/data/images/normal-distrubution-3sds.svg\" alt=\"empirical rule\" width=\"350\" height=\"300\">\r\n",
        "\r\n",
        "**Chebyshev's Theorem /Inequality**\r\n",
        "- The Theorem applies to any distribution, even if that distribution isn’t normal. This formula is useful to get results for standard deviations more than 1.\r\n",
        "- Let X be a continuous random variable of a arbitrary probability distribution with finite expected value(mean) μ and finite non-zero variance $σ^2$. Then for any real number k > 0,\r\n",
        "\\begin{align} Pr(\\mu-k\\sigma <= {X} <= \\mu+k\\sigma) <= \\frac{1}{k^2} \\end{align}\r\n",
        "\r\n",
        "**Markov's Inequality**\r\n",
        " - If X is a nonnegative random variable and $a > 0$, then the probability that X is at least a is at most the expectation of X divided by a\r\n",
        "\\begin{align} Pr(a\\mu <= X) <= \\frac{1}{a} \\end{align}\r\n",
        "\r\n",
        "\r\n"
      ]
    },
    {
      "cell_type": "markdown",
      "metadata": {
        "id": "7WTJLmZWHkQX"
      },
      "source": [
        "### Normal distribution approximation (central limit theorem)\r\n",
        " - The central limit theorem states that if you have a population with mean μ and standard deviation σ and take sufficiently large random samples(>= 30) from the population with replacement, then the distribution of the sample means will be approximately normally distributed i.e. mean of the sample means equals the mean of the original population and its variance is population variance divided by sample size. In simple words if we take more samples, especially large ones, the graph of the sample means will look more like a normal distribution.\r\n",
        " - Traditionally, we would gather samples to represent the random variable. Each sample has its own mean. Now if we start repeating the experiment and start gathering more samples and start calculating the mean of each of the sample then the samples mean will have its own probability distribution and this distribution will converge towards the normal distribution as we start increasing the number of samples.\r\n",
        "\r\n",
        " - If $ X_{1},X_{2},\\ldots ,X_{n}$ are n independent and identically distributed random variables with same arbitrary distribution of mean $\\mu$, and finite variance $\\sigma^{2}$\r\n",
        "  - sampling distribution mean ${\\bar {X}}={\\frac {1}{n}}\\sum_{i=1}^{n}X_{i} \\sim\\text{N}(\\mu,\\sigma^2/n)$\r\n",
        "  - i.e. distribution of sample mean $\\bar{X}$ converges on a normal distribution, \r\n",
        "  - mean of $\\bar{X} = \\mu$ and \r\n",
        "  - variance of $\\bar{X} = \\sigma^{2}/n$, or standard error, s.e. = $\\sigma/\\sqrt {n}$\r\n",
        "- the distribution of z-value of sample mean, $Z={\\frac {{\\overline {X}}-\\mu }{\\sigma/{\\sqrt {n}}}} \\sim\\text{N}(0,1)$ converges on a standard normal distribution (mean = 0, variance = 1)\r\n",
        "- sampling distribution variance ${S^{2}={\\frac {1}{n-1}}\\sum _{i=1}^{n}(X_{i}-{\\bar {X}})^{2}}$\r\n",
        "- the distribution of t-value, $t={\\frac {{\\overline {X}}-\\mu }{S/{\\sqrt {n}}}} \\sim{t}_{n-1}$ does not follow normal curve (CLT) instead it follows a Student's t-distribution with $n-1$ degrees of freedom\r\n",
        "\r\n",
        "### Student-t Distribution\r\n",
        "> **One Sample t-test**: Let $x_1, \\cdots, x_n$ be the numbers observed in a sample from a continuously distributed population with expected value $\\mu$. The sample mean and sample variance are given by:\r\n",
        "\r\n",
        "\\begin{aligned}\r\n",
        "\\bar {x}&={\\frac {x_{1}+\\cdots +x_{n}}{n}}\r\n",
        "\\\\s^{2}&=\\frac {1}{n-1}\\sum _{i=1}^{n}(x_{i}-{\\bar{x}})^{2}\r\n",
        "\\\\t &= \\frac{\\bar{x} - \\mu}{s/\\sqrt{n}} \\sim t_{n-1}\r\n",
        "\\end{aligned}\r\n",
        "\r\n",
        "> This resulting t-value follows t-distribution with n-1 degrees of freedom when samples consist of independent identically distributed observations from a normally distributed population.\r\n",
        "\r\n",
        "  \\begin{aligned}\r\n",
        "  \\\\t &= \\frac{\\bar{X} - \\mu}{s/\\sqrt{n}} = \r\n",
        "  \\frac{\\frac{\\bar{X} - \\mu}{\\sigma/\\sqrt{n}}} {\\sqrt{\\frac{\\frac {1}{n-1}\\sum _{i=1}^{n}(X_{i}-{\\bar{X}})^{2}}{\\sigma^{2}}}} \\sim t_{n-1}\r\n",
        "  \\end{aligned}\r\n",
        "\r\n",
        "> If X follows a normal distribution with mean $\\mu$ and variance $\\sigma^{2}$:\r\n",
        "  - The numerator follows standard normal distribution ∼ N(μ=0, σ=1)\r\n",
        "  - The denominator follow scaled chi-squared $\\frac{1}{n−1}\\,χ^2_{n−1}$ \r\n",
        "  - Numerator and denominator should be independent\r\n",
        "  Under these conditons the  t-statistic ∼ t(df=n−1)"
      ]
    },
    {
      "cell_type": "markdown",
      "metadata": {
        "id": "P60Gem3fJKY7"
      },
      "source": [
        "## Normality test - Graphical methods\r\n",
        "\r\n",
        "<p><u>Normal Distribution</u></p>\r\n",
        "<img src=\"https://upload.wikimedia.org/wikipedia/commons/thumb/1/17/Normprob.png/291px-Normprob.png\" alt=\"QQ-plot\">\r\n",
        "<img src=\"https://upload.wikimedia.org/wikipedia/commons/thumb/e/e2/Normhist.png/291px-Normhist.png\" alt=\"Histogram\">\r\n",
        "\r\n",
        "<p><u>Uniform Distribution (Non - Normal)</u></p>\r\n",
        "<img src=\"https://upload.wikimedia.org/wikipedia/commons/thumb/4/47/Normunifprob.png/291px-Normunifprob.png\" alt=\"QQ-plot\">\r\n",
        "<img src=\"https://upload.wikimedia.org/wikipedia/commons/thumb/3/3a/Normunifhist.png/291px-Normunifhist.png\" alt=\"Histogram\">\r\n",
        "\r\n",
        "<p><u>Right Skewed Distribution (Non - Normal)</u></p>\r\n",
        "<img src=\"https://upload.wikimedia.org/wikipedia/commons/thumb/9/91/Normexpprob.png/291px-Normexpprob.png\" alt=\"QQ-plot\">\r\n",
        "<img src=\"https://upload.wikimedia.org/wikipedia/commons/thumb/1/12/Normexphist.png/291px-Normexphist.png\" alt=\"Histogram\">\r\n",
        "\r\n",
        "* In normal distribution, the points on a normal QQ Plot follow a straight line, whereas other distributions deviate strongly.\r\n",
        "* The uniform distribution has too many observations in both extremities (very high and very low values).\r\n",
        "* The exponential distribution has too many observations on the lower values, but too little in the higher values."
      ]
    },
    {
      "cell_type": "markdown",
      "metadata": {
        "id": "Yx7RTXwKu1x4"
      },
      "source": [
        "\r\n",
        "1. **Histogram**\r\n",
        " - The histogram is a great way to quickly visualize the distribution of a single variable.\r\n",
        " - Histogram of the sample data should be approximately a bell-shaped to resemble the data is normal distributed\r\n",
        " - Histogram of a sample from a normal distribution – it looks fairly symmetric, unimodal and bell shaped\r\n",
        "\r\n",
        " <img src=\"https://miro.medium.com/max/924/1*cYsTolafUgOQQcUsohXo3g.png\" alt=\"histogram\">"
      ]
    },
    {
      "cell_type": "code",
      "metadata": {
        "colab": {
          "base_uri": "https://localhost:8080/",
          "height": 265
        },
        "id": "L0eqRFeL1u8e",
        "outputId": "71f9793b-bb84-42c8-cd18-90108c7ae173"
      },
      "source": [
        "import pandas as pd\r\n",
        "from scipy.stats import norm\r\n",
        "import matplotlib.pyplot as plt \r\n",
        "import numpy as np\r\n",
        "#my_data = pd.Series([1, 2, 3, 4, 5, 6, 7, 8, 9, 10, 8, 6, 4, 2])\r\n",
        "#my_data.hist()\r\n",
        "my_data = norm.rvs(loc=5, scale=3, size=10)\r\n",
        "plt.hist(my_data)\r\n",
        "plt.show()"
      ],
      "execution_count": 5,
      "outputs": [
        {
          "output_type": "display_data",
          "data": {
            "image/png": "[encoded data removed]",
            "text/plain": [
              "<Figure size 432x288 with 1 Axes>"
            ]
          },
          "metadata": {
            "tags": [],
            "needs_background": "light"
          }
        }
      ]
    },
    {
      "cell_type": "code",
      "metadata": {
        "id": "yZSh-jaPMN3o"
      },
      "source": [
        "import numpy as np \r\n",
        "from scipy.stats import norm\r\n",
        "%matplotlib inline\r\n",
        "import matplotlib.pyplot as plt\r\n",
        "import seaborn as sns\r\n",
        "n=300 # Sample size\r\n",
        "data=np.random.uniform(low=1,high=10,size=n) # Sample\r\n",
        "#data=np.random.normal(loc=0,scale=10,size=n)\r\n",
        "bin_value=int(sqrt(len(data))) #choosing the number of bins to draw histogram\r\n",
        "sns.distplot(data,bins=bin_value);\r\n",
        "plt.xlabel(\"Sample Data\",size=15);\r\n",
        "plt.ylabel(\"Density\",size=15);\r\n",
        "plt.title(\"Histogram\",size=20);\r\n",
        "plt.show()"
      ],
      "execution_count": null,
      "outputs": []
    },
    {
      "cell_type": "markdown",
      "metadata": {
        "id": "qrlf93-NuqLX"
      },
      "source": [
        "2. **Quantile-Quantile plot or QQ plot** \r\n",
        " - Null Hypopthesis H0: Sample data comes from Normal distribution \r\n",
        " - Plots of quantiles from two data set (sample and normal) against each other, \r\n",
        " - If the two data sets come from a common distribution, the points should approximately lie on a 45 degree angle (diagonal line y = x)\r\n",
        " - If the line is skewed to the left or right, it means that you do not have normally distributed data.\r\n",
        " - Standardized and sorted data set is plotted against the the expected z-score values of the corresponding quantiles from standard normal distribution\r\n",
        " - Steps:\r\n",
        "    1. Order the items from smallest to largest.\r\n",
        "    2. Draw a normal distribution curve. Divide the curve into n+1 segments. We have 9 values, so divide the curve into 10 equally-sized areas. For this example, each segment is 10% of the area (because 100% / 10 = 10%).\r\n",
        "   <img src=\"https://www.statisticshowto.com/wp-content/uploads/2015/08/qq-plot.png\" alt=\"Normal curvce binned\">\r\n",
        "    3. Find the z-value (cut-off point) for each segment in Step 3. These segments are areas, so refer to a z-table (or use software) to get a z-value for each segment.\r\n",
        "> The z-values are: 10% = -1.28, 20% = -0.84, 30% = -0.52, 40% = -0.25, 50% = 0, 60% = 0.25, 70% = 0.52, 80% = 0.84, 90% = 1.28, 100% = 3.0\r\n",
        "    4. Plot your data set values (Step 1) against your normal distribution cut-off points (Step 3).\r\n",
        "   <img src=\"https://www.statisticshowto.com/wp-content/uploads/2015/08/how-to-make-a-qq-plot.png\" alt=\"QQplot\">\r\n",
        "\r\n",
        "\r\n",
        "A Q–Q plot is used to compare the shapes of distributions, providing a graphical view of how properties such as location, scale, and skewness are similar or different in the two distributions. The use of Q–Q plots to compare two samples of data can be viewed as a non-parametric approach to comparing their underlying distributions. A Q–Q plot is generally a more powerful approach to do this than the common technique of comparing histograms of the two samples. Q–Q plots are also commonly used to compare a data set to a theoretical model by plotting their quantiles against each other. For normality test we compare our ordered sample data with the quantiles obtained from the standard normal distribution. Thus, Q–Q plot help us to identify substantive departures from normality. The resulting image look close to a straight line if the data are approximately normally distributed. Deviations from a straight line suggest departures from normality. The main step in constructing a Q–Q plot is calculating or estimating the quantiles to be plotted. To know how the quantiles are generated in scipy.stats.probplot() see this notebook.\r\n",
        "\r\n",
        "Note: The normal probability plot is a special case of the Q–Q probability plot for a normal distribution."
      ]
    },
    {
      "cell_type": "code",
      "metadata": {
        "id": "xnBl3EoK1YOZ",
        "colab": {
          "base_uri": "https://localhost:8080/",
          "height": 279
        },
        "outputId": "897b9e42-4a8f-43d9-b61f-4e2bf1187835"
      },
      "source": [
        "# QQ Plot Implementation\r\n",
        "import statsmodels.api as sm\r\n",
        "from scipy.stats import norm\r\n",
        "import pylab\r\n",
        "import numpy as np\r\n",
        "my_data = norm.rvs(size=1000)\r\n",
        "# Create the random variables with mean 5, and sd 3\r\n",
        "# my_data = stats.norm.rvs(loc=5, scale=3, size=10)\r\n",
        "# sm.qqplot(my_data, loc = 4, scale = 3, line='s')\r\n",
        "sm.qqplot(my_data, line='45')\r\n",
        "pylab.show()"
      ],
      "execution_count": 9,
      "outputs": [
        {
          "output_type": "display_data",
          "data": {
            "image/png": "[encoded data removed]",
            "text/plain": [
              "<Figure size 432x288 with 1 Axes>"
            ]
          },
          "metadata": {
            "tags": [],
            "needs_background": "light"
          }
        }
      ]
    },
    {
      "cell_type": "markdown",
      "metadata": {
        "id": "bxj9fplwufJZ"
      },
      "source": [
        "3. **Normal probability plot (Normal plot)** \r\n",
        " - Null Hypopthesis H0: Sample data comes from Normal distribution \r\n",
        " - The normal probability plot is a special case of QQ probability plot for a normal distribution\r\n",
        " - Standardized and sorted data set is plotted against the the zscore values\r\n",
        " - If the null hypothesis is true, the plotted points should approximately lie on a straight line.\r\n",
        " - If the line is skewed to the left or right, it means that you do not have normally distributed data.\r\n",
        " - Steps:\r\n",
        "    1. Arrange your x-values in ascending order.\r\n",
        "    2. Calculate $f_{i} = (i-0.375)/(n+0.25)$, where i is the position of the data value in the ordered list and n is the number of observations.\r\n",
        "    3. Find the z-score for each $f_{i}$\r\n",
        "    4. Plot your x-values on the horizontal axis and the corresponding z-score on the vertical axis.\r\n",
        "\r\n",
        "\r\n",
        "This method is not preferred if the sample size is small.\r\n",
        "If the sample size is sufficiently large most statistical significance tests may detect even trivial departures from the null hypothesis (i.e., although there may be some statistically significant effect, it may be too small to be of any practical significance); thus, additional investigation of the effect size is typically advisable, like a Q–Q plot. So, if we have sufficiently large sample, we can opt this method instead of statistical significance tests. For more information check this link and this link.\r\n",
        "As it needs the visual inspection, if we don't have enough sample, it is trickier to make conclusions."
      ]
    },
    {
      "cell_type": "code",
      "metadata": {
        "colab": {
          "base_uri": "https://localhost:8080/",
          "height": 295
        },
        "id": "OmPOv4JTNX9u",
        "outputId": "8e4a3755-6e31-4918-9fd4-b88c0ff7c709"
      },
      "source": [
        "# Normal Plot Implementation\r\n",
        "import statsmodels.api as sm\r\n",
        "from scipy.stats import probplot\r\n",
        "import pylab\r\n",
        "import numpy as np\r\n",
        "my_data = norm.rvs(size=1000)\r\n",
        "# Create the random variables with mean 5, and sd 3\r\n",
        "#my_data = stats.norm.rvs(loc=5, scale=3, size=10)\r\n",
        "probplot(my_data, dist=\"norm\", plot=plt)\r\n",
        "pylab.show()"
      ],
      "execution_count": 12,
      "outputs": [
        {
          "output_type": "display_data",
          "data": {
            "image/png": "[encoded data removed]",
            "text/plain": [
              "<Figure size 432x288 with 1 Axes>"
            ]
          },
          "metadata": {
            "tags": [],
            "needs_background": "light"
          }
        }
      ]
    },
    {
      "cell_type": "markdown",
      "metadata": {
        "id": "IIwrp-l4udJC"
      },
      "source": [
        "4. **Boxplot**\r\n",
        " - If data comes from a normal distribution, the box will be symmetrical with the mean and median in the center. \r\n",
        " - If the data meets the assumption of normality, there should also be few outliers.\r\n",
        "\r\n",
        "<img src=\"https://upload.wikimedia.org/wikipedia/commons/thumb/1/1a/Boxplot_vs_PDF.svg/330px-Boxplot_vs_PDF.svg.png\" alt=\"Boxplot\">\r\n",
        "\r\n",
        "<img src=\"https://upload.wikimedia.org/wikipedia/commons/thumb/2/2a/Boxplots_with_skewness.png/330px-Boxplots_with_skewness.png\">\r\n",
        "\r\n",
        "<img src=\"https://miro.medium.com/max/1050/1*2CoMOD0xcyv1SxcGM-AwdQ.png\" alt=\"boxplpt\"><br/>Normal (left), Uniform (middle) and exponential (right) boxplots </img>"
      ]
    },
    {
      "cell_type": "code",
      "metadata": {
        "id": "PBySb7sfyyFP",
        "colab": {
          "base_uri": "https://localhost:8080/",
          "height": 283
        },
        "outputId": "deff9a81-ff78-43c3-f6eb-3574a88051df"
      },
      "source": [
        "# Boxplot Implementation\r\n",
        "import pandas as pd\r\n",
        "my_data = pd.Series([1, 2, 3, 4, 5, 6, 7, 8, 9, 10, 8, 6, 4, 2])\r\n",
        "my_data.plot(kind = 'box')\r\n",
        "plt.show()\r\n"
      ],
      "execution_count": 13,
      "outputs": [
        {
          "output_type": "execute_result",
          "data": {
            "text/plain": [
              "<matplotlib.axes._subplots.AxesSubplot at 0x7f65122440b8>"
            ]
          },
          "metadata": {
            "tags": []
          },
          "execution_count": 13
        },
        {
          "output_type": "display_data",
          "data": {
            "image/png": "[encoded data removed]",
            "text/plain": [
              "<Figure size 432x288 with 1 Axes>"
            ]
          },
          "metadata": {
            "tags": [],
            "needs_background": "light"
          }
        }
      ]
    },
    {
      "cell_type": "markdown",
      "metadata": {
        "id": "2_jNCti-tlSI"
      },
      "source": [
        "## Frequentist tests for Normality (goodness-of-fit measure of departure from normality)\r\n"
      ]
    },
    {
      "cell_type": "markdown",
      "metadata": {
        "id": "MfMUQt5VtexZ"
      },
      "source": [
        "\r\n",
        "1. Jarque–Bera test\r\n",
        "  - This test only works for a large enough number of data samples (>2000)\r\n",
        "  - Null hypothesis is a joint hypothesis of the skewness being zero and the kurtosis being zero for the distribution to be normal.\r\n",
        "    - Skew is a quantification of how much a distribution is pushed left or right, a measure of asymmetry in the distribution.\r\n",
        "    - Kurtosis is a measure of whether the data are heavy-tailed or light-tailed relative to a normal distribution.\r\n",
        "  - The test statistic is always nonnegative. If it is far from zero, indicates data do not have a normal distribution. For a sample of size $n$ \r\n",
        "    - s.e. of skewness is roughly $\\sqrt{6/n}$\r\n",
        "    - s.e of kurtosis is roughly $\\sqrt{24/n}$\r\n",
        "    - JB statistic follows chi-squared distribution with 2 degree of freedom, $JB = n (\\frac{\\text(skew)^2}{6}+\\frac{\\text(kurt)^2}{24}) \\sim \\chi^2(2)$\r\n",
        "\r\n",
        "**Interpretation**\r\n",
        "\r\n",
        " * p-value ≤ 0.05, then we reject the null hypothesis i.e. we assume the distribution is not normal/gaussian.\r\n",
        " * p-value > 0.05, then we fail to reject the null hypothesis i.e. we assume the distribution is normal/gaussian."
      ]
    },
    {
      "cell_type": "code",
      "metadata": {
        "id": "F0I94f7r6y0U",
        "colab": {
          "base_uri": "https://localhost:8080/"
        },
        "outputId": "546af89d-b4f6-49ec-9566-f6d7ca06c9f5"
      },
      "source": [
        "from scipy.stats import jarque_bera, norm\r\n",
        "import numpy as np\r\n",
        "my_data = norm.rvs(size=1000)\r\n",
        "#my_data = np.random.normal(loc=20, scale=5, size=150)\r\n",
        "stat, p_value = jarque_bera(my_data)\r\n",
        "print(stat, p_value)\r\n",
        "alpha = 0.05\r\n",
        "if p_value > alpha:\r\n",
        "\tprint('Data appears Gaussian/Normal (fail to reject H0)')\r\n",
        "else:\r\n",
        "\tprint('Data does not appear Gaussian/Normal (reject H0)')"
      ],
      "execution_count": 15,
      "outputs": [
        {
          "output_type": "stream",
          "text": [
            "1.2006239293609624 0.5486404529502638\n",
            "Data appears Gaussian/Normal (fail to reject H0)\n"
          ],
          "name": "stdout"
        }
      ]
    },
    {
      "cell_type": "markdown",
      "metadata": {
        "id": "y3n7TCjatei2"
      },
      "source": [
        "\r\n",
        "2. D'Agostino's Pearson K-squared test,\r\n",
        "  - Uses the fact that if the dataset is a normal distribution, skewness coefficient & kurtosis coefficient should be zero. \r\n",
        "  - It is more accurate than the Jarque-Barre test.\r\n",
        "  - Skewness test determines whether the skewness of the sample data is statistically different from zero, $z_{s} = skew/s.e.$\r\n",
        "  - Kurtosis test determines whether the kurtosis of the sample data is statistically different from zero, $z_{k} = kurt/s.e.$\r\n",
        "  - When the data is normally distributed the D’Agostino-Pearson Omnibus test statistic has a chi-square distribution with 2 degrees of freedom\r\n",
        "    \\begin{align}\\text{DP-statistic} = z^2_k+z^2_s \\sim \\chi^{2}(2)\\end{align}\r\n",
        "  - This test should generally not be used for data sets with less than 20 elements\r\n",
        "\r\n",
        "\r\n",
        "**Interpretation**\r\n",
        "\r\n",
        "* p-value ≤ 0.05, then we reject the null hypothesis i.e. we assume the distribution of our variable is not normal/gaussian.\r\n",
        "* p-value > 0.05, then we fail to reject the null hypothesis i.e. we assume the distribution of our variable is normal/gaussian."
      ]
    },
    {
      "cell_type": "code",
      "metadata": {
        "id": "-NntsW-Y7IsQ",
        "colab": {
          "base_uri": "https://localhost:8080/"
        },
        "outputId": "c5c07d3d-82f3-4fb1-bfcc-d1607ac2e433"
      },
      "source": [
        "from scipy.stats import normaltest, norm\r\n",
        "import numpy as np\r\n",
        "my_data = norm.rvs(size=1000)\r\n",
        "#my_data = np.random.normal(loc=20, scale=5, size=150)\r\n",
        "stat, p_value = normaltest(my_data)\r\n",
        "print(stat, p_value)\r\n",
        "alpha = 0.05\r\n",
        "if p_value > alpha:\r\n",
        "\tprint('Data appears Gaussian/Normal (fail to reject H0)')\r\n",
        "else:\r\n",
        "\tprint('Data does not appear Gaussian/Normal (reject H0)')"
      ],
      "execution_count": 17,
      "outputs": [
        {
          "output_type": "stream",
          "text": [
            "0.9260787139035734 0.6293678620201191\n",
            "Data appears Gaussian/Normal (fail to reject H0)\n"
          ],
          "name": "stdout"
        }
      ]
    },
    {
      "cell_type": "markdown",
      "metadata": {
        "id": "SNMGd-eAteSO"
      },
      "source": [
        "3. Shapiro–Wilk test (S-W test)\r\n",
        " - Null hypothesis H0 is population is normally distributed and the mean and variance do not need to be specified in advance.\r\n",
        "    - H0 : X ∼ N(μ, σ)\r\n",
        "    - H1 : X ≁ N(μ, σ)\r\n",
        " - The Shapiro-Wilk test is for testing normality of sample from a normal distribution with unknown mean μ and unknown SD σ.\r\n",
        " - Shapiro Wilk test is the most powerful test for testing for a normal distribution when comparing with Anderson–Darling , Kolmogorov–Smirnov, Lilliefors tests. It cannot be used for testing against other distributions.\r\n",
        " - The test has a bias by sample size. The larger the sample, the more likely you’ll get a statistically significant result.\r\n",
        " - For Shapiro–Wilk test samples of at least 20 elements are recommended and is known not to work well in samples with many identical values.\r\n",
        " - Steps\r\n",
        "    1. Rearrange the data in ascending order so that $x_{1} ≤ x_{2} … ≤ x_{n}$\r\n",
        "    2. Calculate SS as follows:\r\n",
        "      - $SS = \\sum_{i=1}^{n}(x_{i}-{\\bar{x}})^{2}$\r\n",
        "    3. If n is even, let m =  n/2, while if n is odd let m = (n–1)/2\r\n",
        "    4. Calculate b as follows, taking the $a_{i}$ weights from Shapiro-Wilk Table (based on the value of n). Note that if n is odd, the median data value is not used in the calculation of b.\r\n",
        "      \\begin{align}b = \\sum_{i=1}^{m}a_{i}(x_{n+1-i}-x_{i})\\end{align} where $x_{i}$ are the ordered random sample values, $a_{i}$ are constants generated from the covariances, variances and means of the sample (size n) from a normally distributed sample\r\n",
        "    5. Calculate the test statistic $W = b^2 ⁄ SS$, small values indicates sample is not normally distributed\r\n",
        "    6. Check the p-value for the value closest to W-statistic from Shapiro-Wilk Table\r\n",
        "\r\n",
        "**Interpretation**\r\n",
        "\r\n",
        " * p-value ≤ 0.05, then we reject the null hypothesis i.e. we assume the distribution is not normal/gaussian.\r\n",
        " * p-value > 0.05, then we fail to reject the null hypothesis i.e. we assume the distribution is normal/gaussian."
      ]
    },
    {
      "cell_type": "code",
      "metadata": {
        "id": "u4kMZGRq6A15",
        "colab": {
          "base_uri": "https://localhost:8080/"
        },
        "outputId": "783f72d4-22ba-4e54-db25-6f7bd9da6b07"
      },
      "source": [
        "from scipy.stats import shapiro, norm\r\n",
        "import numpy as np\r\n",
        "my_data = norm.rvs(size=1000)\r\n",
        "#my_data = np.random.normal(loc=20, scale=5, size=150)\r\n",
        "stat, p_value = shapiro(my_data)\r\n",
        "print(stat, p_value)\r\n",
        "alpha = 0.05\r\n",
        "if p_value > alpha:\r\n",
        "\tprint('Data appears Gaussian/Normal (fail to reject H0)')\r\n",
        "else:\r\n",
        "\tprint('Data does not appear Gaussian/Normal (reject H0)')"
      ],
      "execution_count": 19,
      "outputs": [
        {
          "output_type": "stream",
          "text": [
            "0.9990300536155701 0.8881983160972595\n",
            "Data appears Gaussian/Normal (fail to reject H0)\n"
          ],
          "name": "stdout"
        }
      ]
    },
    {
      "cell_type": "markdown",
      "metadata": {
        "id": "_xSM00xDteE9"
      },
      "source": [
        "4. Kolmogorov–Smirnov test (K-S test)\r\n",
        " - Null hypothesis (H0) assumes the data comes from the specified hypothetical distribution.\r\n",
        "    - H0 : X ∼ N(μ, σ) with specified μ, σ\r\n",
        "    - H1 : X ≁ N(μ, σ)\r\n",
        " - The Kolmogorov-Smirnov (K-S) test is a non-parametric test based on the empirical distribution function (ECDF)\r\n",
        " - It can be used for small samples and does not require that data frequencies be larger than 5\r\n",
        " - In general samples are standardized and compared with a standard normal distribution(i.e. with specified mean=0 and variance=1)\r\n",
        " - The K-S test is distribution free in the sense that the critical values do not depend on the specific distribution being tested\r\n",
        " - The test computes the distances between the known hypothetical probability distribution(e.g. normal distribution) to the distribution of sample data (empirical distribution function) and and defines the test statistic as the supremum(maximum) of the set of those distances. \r\n",
        " - The KS test is well-known but it has not much power and also sensitive to outliers. It can be used for other distribution.\r\n",
        " - Steps:\r\n",
        "    1. Create an EDF(Empirical Distribution Function) for your sample data\r\n",
        "    2. Specify CDF of parent distribution (i.e. one that you want to compare your EDF to)\r\n",
        "    3. Graph the two distributions together\r\n",
        "    4. Measure the greatest vertical distance between the two graphs\r\n",
        "    5. Calculate the test statistic\r\n",
        "       - F0(x) = the cdf of the hypothesized distribution(Normal)\r\n",
        "       - Fdata(x) = the empirical distribution function of your observed data\r\n",
        "       - K-S test statistic measures the largest distance between the EDF Fdata(x) and the theoretical CDF function(Normal) F0(x). The Test statistic follows a Kolmogorov distribution\r\n",
        "    6. Find the critical value in the KS table\r\n",
        "    7. Compare to the critical value. \r\n",
        "\r\n",
        "**Interpretation**   \r\n",
        "\r\n",
        "  * If KS statistic > critical value, the null hypothesis is rejected i.e. distribution is not normal, \r\n",
        "  * If the observed data perfectly follow a normal distribution, the value of the KS statistic will be 0\r\n",
        "  * p-value ≤ 0.05, then we reject the null hypothesis i.e. we assume the distribution is not normal/gaussian.\r\n",
        "  * p-value > 0.05, then we fail to reject the null hypothesis i.e. we assume the distribution is normal/gaussian."
      ]
    },
    {
      "cell_type": "code",
      "metadata": {
        "id": "V0f9g6u4wIgT",
        "colab": {
          "base_uri": "https://localhost:8080/"
        },
        "outputId": "635c28a5-4c40-454b-a580-89cf8f1deac5"
      },
      "source": [
        "from scipy.stats import kstest, norm\r\n",
        "import numpy as np\r\n",
        "my_data = norm.rvs(size=1000)\r\n",
        "#my_data = np.random.normal(loc=20, scale=5, size=150)\r\n",
        "#stat, p_value = stats.kstest(my_data, 'norm', args=(20, 5))\r\n",
        "stat, p_value = kstest(my_data, 'norm')\r\n",
        "print(stat, p_value)\r\n",
        "alpha = 0.05\r\n",
        "if p_value > alpha:\r\n",
        "\tprint('Data appears Gaussian/Normal (fail to reject H0)')\r\n",
        "else:\r\n",
        "\tprint('Data does not appear Gaussian/Normal (reject H0)')"
      ],
      "execution_count": 20,
      "outputs": [
        {
          "output_type": "stream",
          "text": [
            "0.03799672544124369 0.1086113103005732\n",
            "Data appears Gaussian/Normal (fail to reject H0)\n"
          ],
          "name": "stdout"
        }
      ]
    },
    {
      "cell_type": "markdown",
      "metadata": {
        "id": "vmd4Wlukt-Z7"
      },
      "source": [
        "5. Lilliefors test (or  K-S D test)\r\n",
        "  - Null hypothesis H0: The data comes from a specified distribution(normal) based on the empirical distribution function for sample data\r\n",
        " - An improvement on the Kolomogorov-Smirnov (K-S) test. Correcting the K-S for small values at the tails of probability distributions\r\n",
        " - The difference between KS test and Lilliefors test is, it is accepted that the mean and variance of the population distribution are estimated rather than pre-specified by the user. \r\n",
        " - Instead of comparing the standardized data with the standard normal distribution as in Kolmogorov-Smirnov test, we will compare the sample data by the normal distribution with the estimated mean and estimated variance.\r\n",
        " - In Lilliefors test, first population mean and standard deviation are estimated from the sample data and then Kolmogorov-Smirnov test is applied based on the table of critical values in the Lilliefors Test Table\r\n",
        " - It is weaker test than Shapiro Wilk test, Anderson-Darling or Cramer-von Mises\r\n",
        "\r\n",
        "**Interpretation**\r\n",
        "\r\n",
        " * p-value ≤ 0.05, then we reject the null hypothesis i.e. we assume the distribution is not normal/gaussian.\r\n",
        " * p-value > 0.05, then we fail to reject the null hypothesis i.e. we assume the distribution is normal/gaussian."
      ]
    },
    {
      "cell_type": "code",
      "metadata": {
        "id": "2en4_EJmxAmx",
        "colab": {
          "base_uri": "https://localhost:8080/"
        },
        "outputId": "9707db4c-94e0-40a0-9a04-25f66f24209a"
      },
      "source": [
        "from scipy.stats import norm\r\n",
        "import numpy as np\r\n",
        "from statsmodels.stats.diagnostic import lilliefors\r\n",
        "my_data = norm.rvs(size=500)\r\n",
        "#my_data = np.random.normal(loc=20, scale=5, size=150)\r\n",
        "stat, p_value = lilliefors(my_data)\r\n",
        "alpha = 0.05\r\n",
        "if p_value > alpha:\r\n",
        "\tprint('Data appears Gaussian/Normal (fail to reject H0)')\r\n",
        "else:\r\n",
        "\tprint('Data does not appear Gaussian/Normal (reject H0)')"
      ],
      "execution_count": 21,
      "outputs": [
        {
          "output_type": "stream",
          "text": [
            "Data appears Gaussian/Normal (fail to reject H0)\n"
          ],
          "name": "stdout"
        }
      ]
    },
    {
      "cell_type": "markdown",
      "metadata": {
        "id": "d_QlQn2-t-Ez"
      },
      "source": [
        "6. Pearson's chi-squared test (using contingency table)\r\n",
        " - Null hypothesis H0: data is sampled from a normal distribution\r\n",
        " - It is a measure of goodness of fit which is the sum of differences between observed and expected outcome frequencies for each bin and divided by the expected outcome frequency\r\n",
        " \\begin{align} \\sum_{i=1}^n {\\frac{(O_i - E_i)}{E_i}^2}\\sim \\chi^2(n-1)\\end{align}\r\n",
        "    - For bin(i), $Oi$ = observed count, $Ei$ = expected count, degree of freedom = number of categories minus 1 = n-1 \r\n",
        "    - In contingency table, degree of freedom = (number of columns-1) + (number of rows-1)\r\n",
        " - A very small chi square test statistic(<= critical value) means that your observed data fits your expected data extremely well, it means there is a high correlation between your two sets of data.\r\n",
        " -  This test can be used only when data is categorical and randomly sampled, expected value for the number of sample observations for each level is greater than 5\r\n",
        " - The chi square test can only be used for data put into classes(bins). If variable is continuous, it should be binned data to make a frequency table or histogram before performing the test\r\n",
        " - The Chi-Square Test for Normality is not as powerful as other more specific tests (like Lilliefors)\r\n",
        "\r\n",
        "\r\n",
        "**Interpretation**\r\n",
        "\r\n",
        " * p-value ≤ 0.05, then we reject the null hypothesis i.e. we assume the distribution of our variable is not normal/gaussian.\r\n",
        " * p-value > 0.05, then we fail to reject the null hypothesis i.e. we assume the distribution of our variable is normal/gaussian."
      ]
    },
    {
      "cell_type": "code",
      "metadata": {
        "id": "ZX_bafEHAO15",
        "colab": {
          "base_uri": "https://localhost:8080/"
        },
        "outputId": "c8ed5686-9910-43a9-b881-565be75b98f4"
      },
      "source": [
        "from scipy.stats import chisquare, norm\r\n",
        "import numpy as np\r\n",
        "my_data = norm.rvs(size=500)\r\n",
        "#my_data = np.random.normal(loc=20, scale=5, size=150)\r\n",
        "stat, p_value = chisquare(my_data)\r\n",
        "alpha = 0.05\r\n",
        "if p_value > alpha:\r\n",
        "\tprint('Data appears Gaussian/Normal (fail to reject H0)')\r\n",
        "else:\r\n",
        "\tprint('Data does not appear Gaussian/Normal (reject H0)')"
      ],
      "execution_count": 22,
      "outputs": [
        {
          "output_type": "stream",
          "text": [
            "Data appears Gaussian/Normal (fail to reject H0)\n"
          ],
          "name": "stdout"
        }
      ]
    },
    {
      "cell_type": "markdown",
      "metadata": {
        "id": "Bx292icyuJ2_"
      },
      "source": [
        "7. Anderson–Darling test (A-D test)\r\n",
        "  - Null hypothesis H0: The data comes from a specified distribution(normal) based on the empirical distribution function for sample data\r\n",
        "  - Anderson–Darling test is not quite as good as the Shapiro–Wilk test, but is better than other tests\r\n",
        "  - When are comparing several distributions, we choose the distribution that gives the largest p-value; this will be the closest match to sample data.\r\n",
        "  - It hypothesizes the data does arise from normal distribution, the cumulative distribution function (CDF) of the data assumed to follow a uniform distribution.\r\n",
        "  - The Anderson-Darling test makes use of the specific distribution in calculating critical values. \r\n",
        "  - The Anderson-Darling test is an alternative to the chi-square and Kolmogorov-Smirnov goodness-of-fit tests. \r\n",
        "  - We can use the Anderson-Darling statistic to compare how well a data set fits different distributions. Kolmogorov-Smirnov test taken the maximum difference between the EDF curves, in Anderson-Darling test will consider all the differences.\r\n",
        "  - Overall Anderson-Darling test is more powerful than Kolmogorov-Smirnov test because of the more detailed comparison it does."
      ]
    },
    {
      "cell_type": "code",
      "metadata": {
        "id": "vKJIhZnc7iwG",
        "colab": {
          "base_uri": "https://localhost:8080/"
        },
        "outputId": "d60c1de7-f5e3-4a1f-fdab-bf6d45d0092c"
      },
      "source": [
        "from scipy.stats import anderson, norm\r\n",
        "import numpy as np\r\n",
        "my_data = norm.rvs(size=1000)\r\n",
        "#my_data = np.random.normal(loc=20, scale=5, size=150)\r\n",
        "result = anderson(my_data, 'norm')\r\n",
        "print('Statistic: %.3f' % result.statistic)\r\n",
        "for i in range(len(result.critical_values)):\r\n",
        "\tsl, cv = result.significance_level[i], result.critical_values[i]\r\n",
        "\tif result.statistic < result.critical_values[i]:\r\n",
        "\t\tprint('%.3f: %.3f, data appears normal (fail to reject H0)' % (sl, cv))\r\n",
        "\telse:\r\n",
        "\t\tprint('%.3f: %.3f, data does not appear normal (reject H0)' % (sl, cv))"
      ],
      "execution_count": 23,
      "outputs": [
        {
          "output_type": "stream",
          "text": [
            "Statistic: 0.277\n",
            "15.000: 0.574, data appears normal (fail to reject H0)\n",
            "10.000: 0.653, data appears normal (fail to reject H0)\n",
            "5.000: 0.784, data appears normal (fail to reject H0)\n",
            "2.500: 0.914, data appears normal (fail to reject H0)\n",
            "1.000: 1.088, data appears normal (fail to reject H0)\n"
          ],
          "name": "stdout"
        }
      ]
    },
    {
      "cell_type": "markdown",
      "metadata": {
        "id": "yLbvf4EkMF-x"
      },
      "source": [
        "8. Cramér–von Mises criterion (CvM or Watson test)\r\n",
        "\r\n",
        " - In KS test only the maximum distance is considered as test statistic. But, In Cramér–von Mises test, the test statistic will be based on all the deviations and it is sum of squares of the deviations. \r\n",
        " - Empirical evidences suggest that the Cramér–von Mises test is usually more powerful than the Kolmogorov–Smirnov test for a broad class of alternative hypothesis.\r\n",
        " - But both the KS and CvM statistics are insensitive when the differences between the curves is most prominent near the beginning or end of the distributions. This is because, by construction, the EDFs converge to 0.0 and 1.0 at the ends and any deviations must be small.\r\n",
        "\r\n",
        "9. Martinez-Iglewicz Test\r\n",
        "  - This test for normality is based on the median and a robust estimator of dispersion.This test is very powerful for heavy-tailed symmetric distributions.\r\n",
        "\r\n"
      ]
    },
    {
      "cell_type": "code",
      "metadata": {
        "id": "AJYEtYG_H-S-",
        "colab": {
          "base_uri": "https://localhost:8080/"
        },
        "outputId": "54bb86e0-0f01-49c4-df49-b51279dbb357"
      },
      "source": [
        "#!pip install scikit-gof\r\n",
        "from scipy.stats import norm\r\n",
        "import numpy as np\r\n",
        "my_data = norm.rvs(size=500)\r\n",
        "#my_data = np.random.normal(loc=20, scale=5, size=150)\r\n",
        "from skgof import cvm_test\r\n",
        "stat, p_value=cvm_test(my_data,'norm')\r\n",
        "alpha = 0.05\r\n",
        "if p_value > alpha:\r\n",
        "\tprint('Data appears Gaussian/Normal (fail to reject H0)')\r\n",
        "else:\r\n",
        "\tprint('Data does not appear Gaussian/Normal (reject H0)')"
      ],
      "execution_count": 26,
      "outputs": [
        {
          "output_type": "stream",
          "text": [
            "Data appears Gaussian/Normal (fail to reject H0)\n"
          ],
          "name": "stdout"
        }
      ]
    },
    {
      "cell_type": "markdown",
      "metadata": {
        "id": "Iwm_gn5AKXOr"
      },
      "source": [
        "For what criteria we should look while choosing the normality test?\r\n",
        "\r\n",
        "1. Parameters of the normal distribution which you want to compare with the sample data.\r\n",
        "2. Sample size\r\n",
        "3. Which characteristic of the normal distribution you want to test with\r\n",
        "4. Power\r\n",
        "\r\n",
        "All these are discussed above whenever needed.\r\n",
        "\r\n",
        "Ex1:\r\n",
        "\r\n",
        " - If you are not interested in the parameters of the normal and just want to simply determine if the distribution is normal or not S-W test, A-D test, Lilliefors test for testing normality with normal distribution unknown mean and variance is preferred.\r\n",
        "\r\n",
        " - If you are interested to compare with in specific parameters(Ex: In general we expect the error distribution ~ N(0,σ)) one can opt the KS test,AD test.\r\n",
        "\r\n",
        "Ex2:\r\n",
        "\r\n",
        " - SW test was preferred for small samples.\r\n",
        " - AD test was preferred if we have enough sample size.\r\n",
        " - The asymptotic power of KS test is 1.\r\n",
        " - If we have sufficiently large sample QQ plot is preferred.\r\n",
        "\r\n",
        "Ex3:\r\n",
        "\r\n",
        " - If we observe the the distribution of sample has the heavier tail, AD best will preferred.\r\n",
        " - If we observe the the distribution of sample was skewed(i.e., The empirical distribution is summarized through its skewness and kurtosis statistics and compared to the skewness and kurtosis of the normal distribution.) tests based on skewness and kurtosis(Jarque–Bera test) are preferred.\r\n",
        " - For the distributions that have slightly or definitely higher kurtosis than the normal, the skewness-kurtosis based tests are more powerful than the other types of test.\r\n",
        "\r\n",
        "> The results of a test for normality should not only report a p-value but they should be accompanied by a careful interpretation of the probability plot and skewness and kurtosis statistics for a complete diagnosis."
      ]
    }
  ]
}